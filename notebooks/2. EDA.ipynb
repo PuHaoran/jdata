{
 "cells": [
  {
   "cell_type": "code",
   "execution_count": 1,
   "metadata": {},
   "outputs": [],
   "source": [
    "import gc\n",
    "import sys\n",
    "from pathlib import Path\n",
    "\n",
    "import numpy as np\n",
    "import pandas as pd\n",
    "\n",
    "import matplotlib.pyplot as plt\n",
    "import seaborn as sns\n",
    "\n",
    "%matplotlib inline\n",
    "pd.set_option('display.max_columns', 10000)\n",
    "\n",
    "sys.path.append(str(Path('.').resolve().parents[0]))\n",
    "from src.data import TrainTestReadWriter"
   ]
  },
  {
   "cell_type": "code",
   "execution_count": 3,
   "metadata": {},
   "outputs": [],
   "source": [
    "data_path = Path('.').resolve().parents[0].joinpath(\"data\")\n",
    "raw_path = data_path.joinpath(\"raw\")\n",
    "interim_path = data_path.joinpath(\"interim\")"
   ]
  },
  {
   "cell_type": "code",
   "execution_count": 4,
   "metadata": {},
   "outputs": [],
   "source": [
    "column_types = {\n",
    "    \"a1\": \"int8\",\n",
    "    \"a2\": \"int8\",\n",
    "    \"a3\": \"int8\",\n",
    "    \"age\": \"int8\",\n",
    "    \"bad_comment_rate\": \"float32\",\n",
    "    \"brand\": \"int16\",\n",
    "    \"cate\": \"int8\",\n",
    "    \"comment_num\": \"int8\",\n",
    "    \"day\": \"uint8\",\n",
    "    \"day_user_reg\": \"uint8\",\n",
    "    \"has_bad_comment\": \"int8\",\n",
    "    \"hour\": \"uint8\",\n",
    "    \"model_id\": \"int16\",\n",
    "    \"month\": \"uint8\",\n",
    "    \"month_user_reg\": \"uint8\",\n",
    "    \"sex\": \"int8\",\n",
    "    \"sku_id\": \"int32\",\n",
    "    \"type\": \"int8\",\n",
    "    \"unix_action\": \"int64\",\n",
    "    \"unix_comment\": \"int64\",\n",
    "    \"unix_user_reg\": \"int64\",\n",
    "    \"user_id\": \"int32\",\n",
    "    \"user_lv_cd\": \"int8\",\n",
    "    \"week_action\": \"uint8\",\n",
    "    \"week_comment\": \"uint8\",\n",
    "    \"year\": \"uint16\",\n",
    "    \"year_user_reg\": \"uint16\",\n",
    "}"
   ]
  },
  {
   "cell_type": "code",
   "execution_count": 5,
   "metadata": {},
   "outputs": [
    {
     "name": "stdout",
     "output_type": "stream",
     "text": [
      "CPU times: user 49.5 s, sys: 1.8 s, total: 51.3 s\n",
      "Wall time: 51.3 s\n"
     ]
    }
   ],
   "source": [
    "%time df = pd.read_csv('{}/all_merged.csv'.format(interim_path), dtype=column_types)"
   ]
  },
  {
   "cell_type": "code",
   "execution_count": 6,
   "metadata": {},
   "outputs": [
    {
     "data": {
      "text/html": [
       "<div>\n",
       "<style scoped>\n",
       "    .dataframe tbody tr th:only-of-type {\n",
       "        vertical-align: middle;\n",
       "    }\n",
       "\n",
       "    .dataframe tbody tr th {\n",
       "        vertical-align: top;\n",
       "    }\n",
       "\n",
       "    .dataframe thead th {\n",
       "        text-align: right;\n",
       "    }\n",
       "</style>\n",
       "<table border=\"1\" class=\"dataframe\">\n",
       "  <thead>\n",
       "    <tr style=\"text-align: right;\">\n",
       "      <th></th>\n",
       "      <th>user_id</th>\n",
       "      <th>sku_id</th>\n",
       "      <th>model_id</th>\n",
       "      <th>type</th>\n",
       "      <th>cate</th>\n",
       "      <th>brand</th>\n",
       "      <th>year</th>\n",
       "      <th>month</th>\n",
       "      <th>day</th>\n",
       "      <th>week_action</th>\n",
       "      <th>hour</th>\n",
       "      <th>unix_action</th>\n",
       "      <th>age</th>\n",
       "      <th>sex</th>\n",
       "      <th>user_lv_cd</th>\n",
       "      <th>year_user_reg</th>\n",
       "      <th>month_user_reg</th>\n",
       "      <th>day_user_reg</th>\n",
       "      <th>unix_user_reg</th>\n",
       "      <th>a1</th>\n",
       "      <th>a2</th>\n",
       "      <th>a3</th>\n",
       "      <th>comment_num</th>\n",
       "      <th>has_bad_comment</th>\n",
       "      <th>bad_comment_rate</th>\n",
       "      <th>week_comment</th>\n",
       "      <th>unix_comment</th>\n",
       "    </tr>\n",
       "  </thead>\n",
       "  <tbody>\n",
       "    <tr>\n",
       "      <th>0</th>\n",
       "      <td>266079</td>\n",
       "      <td>138778</td>\n",
       "      <td>-1</td>\n",
       "      <td>1</td>\n",
       "      <td>8</td>\n",
       "      <td>403</td>\n",
       "      <td>2016</td>\n",
       "      <td>1</td>\n",
       "      <td>31</td>\n",
       "      <td>4</td>\n",
       "      <td>23</td>\n",
       "      <td>1454284742</td>\n",
       "      <td>2</td>\n",
       "      <td>2</td>\n",
       "      <td>5</td>\n",
       "      <td>2012</td>\n",
       "      <td>6</td>\n",
       "      <td>15</td>\n",
       "      <td>1339718400</td>\n",
       "      <td>1</td>\n",
       "      <td>1</td>\n",
       "      <td>1</td>\n",
       "      <td>0</td>\n",
       "      <td>0</td>\n",
       "      <td>0.0</td>\n",
       "      <td>0</td>\n",
       "      <td>0</td>\n",
       "    </tr>\n",
       "    <tr>\n",
       "      <th>1</th>\n",
       "      <td>266079</td>\n",
       "      <td>138778</td>\n",
       "      <td>0</td>\n",
       "      <td>6</td>\n",
       "      <td>8</td>\n",
       "      <td>403</td>\n",
       "      <td>2016</td>\n",
       "      <td>1</td>\n",
       "      <td>31</td>\n",
       "      <td>4</td>\n",
       "      <td>23</td>\n",
       "      <td>1454284743</td>\n",
       "      <td>2</td>\n",
       "      <td>2</td>\n",
       "      <td>5</td>\n",
       "      <td>2012</td>\n",
       "      <td>6</td>\n",
       "      <td>15</td>\n",
       "      <td>1339718400</td>\n",
       "      <td>1</td>\n",
       "      <td>1</td>\n",
       "      <td>1</td>\n",
       "      <td>0</td>\n",
       "      <td>0</td>\n",
       "      <td>0.0</td>\n",
       "      <td>0</td>\n",
       "      <td>0</td>\n",
       "    </tr>\n",
       "    <tr>\n",
       "      <th>2</th>\n",
       "      <td>200719</td>\n",
       "      <td>61226</td>\n",
       "      <td>-1</td>\n",
       "      <td>1</td>\n",
       "      <td>8</td>\n",
       "      <td>30</td>\n",
       "      <td>2016</td>\n",
       "      <td>1</td>\n",
       "      <td>31</td>\n",
       "      <td>4</td>\n",
       "      <td>23</td>\n",
       "      <td>1454284747</td>\n",
       "      <td>4</td>\n",
       "      <td>2</td>\n",
       "      <td>3</td>\n",
       "      <td>2016</td>\n",
       "      <td>1</td>\n",
       "      <td>31</td>\n",
       "      <td>1454198400</td>\n",
       "      <td>1</td>\n",
       "      <td>2</td>\n",
       "      <td>1</td>\n",
       "      <td>0</td>\n",
       "      <td>0</td>\n",
       "      <td>0.0</td>\n",
       "      <td>0</td>\n",
       "      <td>0</td>\n",
       "    </tr>\n",
       "    <tr>\n",
       "      <th>3</th>\n",
       "      <td>200719</td>\n",
       "      <td>61226</td>\n",
       "      <td>0</td>\n",
       "      <td>6</td>\n",
       "      <td>8</td>\n",
       "      <td>30</td>\n",
       "      <td>2016</td>\n",
       "      <td>1</td>\n",
       "      <td>31</td>\n",
       "      <td>4</td>\n",
       "      <td>23</td>\n",
       "      <td>1454284748</td>\n",
       "      <td>4</td>\n",
       "      <td>2</td>\n",
       "      <td>3</td>\n",
       "      <td>2016</td>\n",
       "      <td>1</td>\n",
       "      <td>31</td>\n",
       "      <td>1454198400</td>\n",
       "      <td>1</td>\n",
       "      <td>2</td>\n",
       "      <td>1</td>\n",
       "      <td>0</td>\n",
       "      <td>0</td>\n",
       "      <td>0.0</td>\n",
       "      <td>0</td>\n",
       "      <td>0</td>\n",
       "    </tr>\n",
       "    <tr>\n",
       "      <th>4</th>\n",
       "      <td>263587</td>\n",
       "      <td>72348</td>\n",
       "      <td>-1</td>\n",
       "      <td>1</td>\n",
       "      <td>5</td>\n",
       "      <td>159</td>\n",
       "      <td>2016</td>\n",
       "      <td>1</td>\n",
       "      <td>31</td>\n",
       "      <td>4</td>\n",
       "      <td>23</td>\n",
       "      <td>1454284748</td>\n",
       "      <td>3</td>\n",
       "      <td>2</td>\n",
       "      <td>4</td>\n",
       "      <td>2015</td>\n",
       "      <td>1</td>\n",
       "      <td>12</td>\n",
       "      <td>1421020800</td>\n",
       "      <td>-1</td>\n",
       "      <td>-1</td>\n",
       "      <td>-1</td>\n",
       "      <td>0</td>\n",
       "      <td>0</td>\n",
       "      <td>0.0</td>\n",
       "      <td>0</td>\n",
       "      <td>0</td>\n",
       "    </tr>\n",
       "  </tbody>\n",
       "</table>\n",
       "</div>"
      ],
      "text/plain": [
       "   user_id  sku_id  model_id  type  cate  brand  year  month  day  \\\n",
       "0   266079  138778        -1     1     8    403  2016      1   31   \n",
       "1   266079  138778         0     6     8    403  2016      1   31   \n",
       "2   200719   61226        -1     1     8     30  2016      1   31   \n",
       "3   200719   61226         0     6     8     30  2016      1   31   \n",
       "4   263587   72348        -1     1     5    159  2016      1   31   \n",
       "\n",
       "   week_action  hour  unix_action  age  sex  user_lv_cd  year_user_reg  \\\n",
       "0            4    23   1454284742    2    2           5           2012   \n",
       "1            4    23   1454284743    2    2           5           2012   \n",
       "2            4    23   1454284747    4    2           3           2016   \n",
       "3            4    23   1454284748    4    2           3           2016   \n",
       "4            4    23   1454284748    3    2           4           2015   \n",
       "\n",
       "   month_user_reg  day_user_reg  unix_user_reg  a1  a2  a3  comment_num  \\\n",
       "0               6            15     1339718400   1   1   1            0   \n",
       "1               6            15     1339718400   1   1   1            0   \n",
       "2               1            31     1454198400   1   2   1            0   \n",
       "3               1            31     1454198400   1   2   1            0   \n",
       "4               1            12     1421020800  -1  -1  -1            0   \n",
       "\n",
       "   has_bad_comment  bad_comment_rate  week_comment  unix_comment  \n",
       "0                0               0.0             0             0  \n",
       "1                0               0.0             0             0  \n",
       "2                0               0.0             0             0  \n",
       "3                0               0.0             0             0  \n",
       "4                0               0.0             0             0  "
      ]
     },
     "execution_count": 6,
     "metadata": {},
     "output_type": "execute_result"
    }
   ],
   "source": [
    "df.head()"
   ]
  },
  {
   "cell_type": "code",
   "execution_count": 69,
   "metadata": {},
   "outputs": [
    {
     "name": "stdout",
     "output_type": "stream",
     "text": [
      "<class 'pandas.core.frame.DataFrame'>\n",
      "RangeIndex: 37087895 entries, 0 to 37087894\n",
      "Data columns (total 27 columns):\n",
      "user_id             37087895 non-null int32\n",
      "sku_id              37087895 non-null int32\n",
      "model_id            37087895 non-null int16\n",
      "type                37087895 non-null int8\n",
      "cate                37087895 non-null int8\n",
      "brand               37087895 non-null int16\n",
      "year                37087895 non-null uint16\n",
      "month               37087895 non-null uint8\n",
      "day                 37087895 non-null uint8\n",
      "week_action         37087895 non-null uint8\n",
      "hour                37087895 non-null uint8\n",
      "unix_action         37087895 non-null int64\n",
      "age                 37087895 non-null int8\n",
      "sex                 37087895 non-null int8\n",
      "user_lv_cd          37087895 non-null int8\n",
      "year_user_reg       37087895 non-null uint16\n",
      "month_user_reg      37087895 non-null uint8\n",
      "day_user_reg        37087895 non-null uint8\n",
      "unix_user_reg       37087895 non-null int64\n",
      "a1                  37087895 non-null int8\n",
      "a2                  37087895 non-null int8\n",
      "a3                  37087895 non-null int8\n",
      "comment_num         37087895 non-null int8\n",
      "has_bad_comment     37087895 non-null int8\n",
      "bad_comment_rate    37087895 non-null float32\n",
      "week_comment        37087895 non-null uint8\n",
      "unix_comment        37087895 non-null int64\n",
      "dtypes: float32(1), int16(2), int32(2), int64(3), int8(10), uint16(2), uint8(7)\n",
      "memory usage: 2.1 GB\n"
     ]
    }
   ],
   "source": [
    "df.info(memory_usage=True, null_counts=True)"
   ]
  },
  {
   "cell_type": "code",
   "execution_count": 70,
   "metadata": {},
   "outputs": [
    {
     "data": {
      "text/html": [
       "<div>\n",
       "<style scoped>\n",
       "    .dataframe tbody tr th:only-of-type {\n",
       "        vertical-align: middle;\n",
       "    }\n",
       "\n",
       "    .dataframe tbody tr th {\n",
       "        vertical-align: top;\n",
       "    }\n",
       "\n",
       "    .dataframe thead th {\n",
       "        text-align: right;\n",
       "    }\n",
       "</style>\n",
       "<table border=\"1\" class=\"dataframe\">\n",
       "  <thead>\n",
       "    <tr style=\"text-align: right;\">\n",
       "      <th></th>\n",
       "      <th>user_id</th>\n",
       "      <th>sku_id</th>\n",
       "      <th>model_id</th>\n",
       "      <th>type</th>\n",
       "      <th>cate</th>\n",
       "      <th>brand</th>\n",
       "      <th>year</th>\n",
       "      <th>month</th>\n",
       "      <th>day</th>\n",
       "      <th>week_action</th>\n",
       "      <th>hour</th>\n",
       "      <th>unix_action</th>\n",
       "      <th>age</th>\n",
       "      <th>sex</th>\n",
       "      <th>user_lv_cd</th>\n",
       "      <th>year_user_reg</th>\n",
       "      <th>month_user_reg</th>\n",
       "      <th>day_user_reg</th>\n",
       "      <th>unix_user_reg</th>\n",
       "      <th>a1</th>\n",
       "      <th>a2</th>\n",
       "      <th>a3</th>\n",
       "      <th>comment_num</th>\n",
       "      <th>has_bad_comment</th>\n",
       "      <th>bad_comment_rate</th>\n",
       "      <th>week_comment</th>\n",
       "      <th>unix_comment</th>\n",
       "    </tr>\n",
       "  </thead>\n",
       "  <tbody>\n",
       "    <tr>\n",
       "      <th>count</th>\n",
       "      <td>3.708790e+07</td>\n",
       "      <td>3.708790e+07</td>\n",
       "      <td>3.708790e+07</td>\n",
       "      <td>3.708790e+07</td>\n",
       "      <td>3.708790e+07</td>\n",
       "      <td>3.708790e+07</td>\n",
       "      <td>37087895.0</td>\n",
       "      <td>3.708790e+07</td>\n",
       "      <td>3.708790e+07</td>\n",
       "      <td>3.708790e+07</td>\n",
       "      <td>3.708790e+07</td>\n",
       "      <td>3.708790e+07</td>\n",
       "      <td>3.708790e+07</td>\n",
       "      <td>3.708790e+07</td>\n",
       "      <td>3.708790e+07</td>\n",
       "      <td>3.708790e+07</td>\n",
       "      <td>3.708790e+07</td>\n",
       "      <td>3.708790e+07</td>\n",
       "      <td>3.708790e+07</td>\n",
       "      <td>3.708790e+07</td>\n",
       "      <td>3.708790e+07</td>\n",
       "      <td>3.708790e+07</td>\n",
       "      <td>3.708790e+07</td>\n",
       "      <td>3.708790e+07</td>\n",
       "      <td>3.708790e+07</td>\n",
       "      <td>3.708790e+07</td>\n",
       "      <td>3.708790e+07</td>\n",
       "    </tr>\n",
       "    <tr>\n",
       "      <th>mean</th>\n",
       "      <td>2.512375e+05</td>\n",
       "      <td>8.343990e+04</td>\n",
       "      <td>7.021606e+01</td>\n",
       "      <td>4.585459e+00</td>\n",
       "      <td>6.555843e+00</td>\n",
       "      <td>4.320840e+02</td>\n",
       "      <td>2016.0</td>\n",
       "      <td>3.021504e+00</td>\n",
       "      <td>1.396212e+01</td>\n",
       "      <td>1.074438e+01</td>\n",
       "      <td>1.446938e+01</td>\n",
       "      <td>1.458062e+09</td>\n",
       "      <td>2.021405e+00</td>\n",
       "      <td>9.817617e-01</td>\n",
       "      <td>4.145592e+00</td>\n",
       "      <td>2.012651e+03</td>\n",
       "      <td>6.538999e+00</td>\n",
       "      <td>1.556885e+01</td>\n",
       "      <td>1.361701e+09</td>\n",
       "      <td>9.648477e-02</td>\n",
       "      <td>-2.177775e-01</td>\n",
       "      <td>-1.554245e-01</td>\n",
       "      <td>6.371210e-01</td>\n",
       "      <td>1.520561e-01</td>\n",
       "      <td>4.911033e-03</td>\n",
       "      <td>1.905458e+00</td>\n",
       "      <td>2.460816e+08</td>\n",
       "    </tr>\n",
       "    <tr>\n",
       "      <th>std</th>\n",
       "      <td>2.997270e+04</td>\n",
       "      <td>4.967291e+04</td>\n",
       "      <td>9.831410e+01</td>\n",
       "      <td>2.225027e+00</td>\n",
       "      <td>1.779115e+00</td>\n",
       "      <td>2.423722e+02</td>\n",
       "      <td>0.0</td>\n",
       "      <td>7.012815e-01</td>\n",
       "      <td>8.297387e+00</td>\n",
       "      <td>2.788090e+00</td>\n",
       "      <td>6.348362e+00</td>\n",
       "      <td>1.684718e+06</td>\n",
       "      <td>1.237800e+00</td>\n",
       "      <td>9.614391e-01</td>\n",
       "      <td>9.670898e-01</td>\n",
       "      <td>2.045471e+00</td>\n",
       "      <td>3.508692e+00</td>\n",
       "      <td>8.718407e+00</td>\n",
       "      <td>6.362080e+07</td>\n",
       "      <td>1.592587e+00</td>\n",
       "      <td>1.106496e+00</td>\n",
       "      <td>1.238827e+00</td>\n",
       "      <td>1.440554e+00</td>\n",
       "      <td>3.590752e-01</td>\n",
       "      <td>1.796169e-02</td>\n",
       "      <td>4.397562e+00</td>\n",
       "      <td>5.461342e+08</td>\n",
       "    </tr>\n",
       "    <tr>\n",
       "      <th>min</th>\n",
       "      <td>2.000010e+05</td>\n",
       "      <td>2.000000e+00</td>\n",
       "      <td>-1.000000e+00</td>\n",
       "      <td>1.000000e+00</td>\n",
       "      <td>4.000000e+00</td>\n",
       "      <td>4.000000e+00</td>\n",
       "      <td>2016.0</td>\n",
       "      <td>1.000000e+00</td>\n",
       "      <td>1.000000e+00</td>\n",
       "      <td>4.000000e+00</td>\n",
       "      <td>0.000000e+00</td>\n",
       "      <td>1.454285e+09</td>\n",
       "      <td>-1.000000e+00</td>\n",
       "      <td>0.000000e+00</td>\n",
       "      <td>1.000000e+00</td>\n",
       "      <td>2.003000e+03</td>\n",
       "      <td>1.000000e+00</td>\n",
       "      <td>1.000000e+00</td>\n",
       "      <td>1.055722e+09</td>\n",
       "      <td>-1.000000e+00</td>\n",
       "      <td>-1.000000e+00</td>\n",
       "      <td>-1.000000e+00</td>\n",
       "      <td>0.000000e+00</td>\n",
       "      <td>0.000000e+00</td>\n",
       "      <td>0.000000e+00</td>\n",
       "      <td>0.000000e+00</td>\n",
       "      <td>0.000000e+00</td>\n",
       "    </tr>\n",
       "    <tr>\n",
       "      <th>25%</th>\n",
       "      <td>2.255660e+05</td>\n",
       "      <td>4.033600e+04</td>\n",
       "      <td>-1.000000e+00</td>\n",
       "      <td>1.000000e+00</td>\n",
       "      <td>5.000000e+00</td>\n",
       "      <td>2.140000e+02</td>\n",
       "      <td>2016.0</td>\n",
       "      <td>3.000000e+00</td>\n",
       "      <td>7.000000e+00</td>\n",
       "      <td>9.000000e+00</td>\n",
       "      <td>1.000000e+01</td>\n",
       "      <td>1.456869e+09</td>\n",
       "      <td>2.000000e+00</td>\n",
       "      <td>0.000000e+00</td>\n",
       "      <td>4.000000e+00</td>\n",
       "      <td>2.011000e+03</td>\n",
       "      <td>3.000000e+00</td>\n",
       "      <td>8.000000e+00</td>\n",
       "      <td>1.317773e+09</td>\n",
       "      <td>-1.000000e+00</td>\n",
       "      <td>-1.000000e+00</td>\n",
       "      <td>-1.000000e+00</td>\n",
       "      <td>0.000000e+00</td>\n",
       "      <td>0.000000e+00</td>\n",
       "      <td>0.000000e+00</td>\n",
       "      <td>0.000000e+00</td>\n",
       "      <td>0.000000e+00</td>\n",
       "    </tr>\n",
       "    <tr>\n",
       "      <th>50%</th>\n",
       "      <td>2.496840e+05</td>\n",
       "      <td>7.961600e+04</td>\n",
       "      <td>0.000000e+00</td>\n",
       "      <td>6.000000e+00</td>\n",
       "      <td>7.000000e+00</td>\n",
       "      <td>4.620000e+02</td>\n",
       "      <td>2016.0</td>\n",
       "      <td>3.000000e+00</td>\n",
       "      <td>1.300000e+01</td>\n",
       "      <td>1.100000e+01</td>\n",
       "      <td>1.500000e+01</td>\n",
       "      <td>1.458051e+09</td>\n",
       "      <td>2.000000e+00</td>\n",
       "      <td>1.000000e+00</td>\n",
       "      <td>4.000000e+00</td>\n",
       "      <td>2.013000e+03</td>\n",
       "      <td>6.000000e+00</td>\n",
       "      <td>1.500000e+01</td>\n",
       "      <td>1.363738e+09</td>\n",
       "      <td>-1.000000e+00</td>\n",
       "      <td>-1.000000e+00</td>\n",
       "      <td>-1.000000e+00</td>\n",
       "      <td>0.000000e+00</td>\n",
       "      <td>0.000000e+00</td>\n",
       "      <td>0.000000e+00</td>\n",
       "      <td>0.000000e+00</td>\n",
       "      <td>0.000000e+00</td>\n",
       "    </tr>\n",
       "    <tr>\n",
       "      <th>75%</th>\n",
       "      <td>2.770230e+05</td>\n",
       "      <td>1.268850e+05</td>\n",
       "      <td>2.160000e+02</td>\n",
       "      <td>6.000000e+00</td>\n",
       "      <td>8.000000e+00</td>\n",
       "      <td>6.230000e+02</td>\n",
       "      <td>2016.0</td>\n",
       "      <td>4.000000e+00</td>\n",
       "      <td>2.000000e+01</td>\n",
       "      <td>1.300000e+01</td>\n",
       "      <td>2.000000e+01</td>\n",
       "      <td>1.459523e+09</td>\n",
       "      <td>3.000000e+00</td>\n",
       "      <td>2.000000e+00</td>\n",
       "      <td>5.000000e+00</td>\n",
       "      <td>2.014000e+03</td>\n",
       "      <td>1.000000e+01</td>\n",
       "      <td>2.300000e+01</td>\n",
       "      <td>1.415664e+09</td>\n",
       "      <td>1.000000e+00</td>\n",
       "      <td>1.000000e+00</td>\n",
       "      <td>1.000000e+00</td>\n",
       "      <td>0.000000e+00</td>\n",
       "      <td>0.000000e+00</td>\n",
       "      <td>0.000000e+00</td>\n",
       "      <td>0.000000e+00</td>\n",
       "      <td>0.000000e+00</td>\n",
       "    </tr>\n",
       "    <tr>\n",
       "      <th>max</th>\n",
       "      <td>3.053210e+05</td>\n",
       "      <td>1.712250e+05</td>\n",
       "      <td>3.480000e+02</td>\n",
       "      <td>6.000000e+00</td>\n",
       "      <td>1.100000e+01</td>\n",
       "      <td>9.230000e+02</td>\n",
       "      <td>2016.0</td>\n",
       "      <td>4.000000e+00</td>\n",
       "      <td>3.100000e+01</td>\n",
       "      <td>1.500000e+01</td>\n",
       "      <td>2.300000e+01</td>\n",
       "      <td>1.460765e+09</td>\n",
       "      <td>5.000000e+00</td>\n",
       "      <td>2.000000e+00</td>\n",
       "      <td>5.000000e+00</td>\n",
       "      <td>2.016000e+03</td>\n",
       "      <td>1.200000e+01</td>\n",
       "      <td>3.100000e+01</td>\n",
       "      <td>1.480032e+09</td>\n",
       "      <td>3.000000e+00</td>\n",
       "      <td>2.000000e+00</td>\n",
       "      <td>2.000000e+00</td>\n",
       "      <td>4.000000e+00</td>\n",
       "      <td>1.000000e+00</td>\n",
       "      <td>1.000000e+00</td>\n",
       "      <td>1.500000e+01</td>\n",
       "      <td>1.460678e+09</td>\n",
       "    </tr>\n",
       "  </tbody>\n",
       "</table>\n",
       "</div>"
      ],
      "text/plain": [
       "            user_id        sku_id      model_id          type          cate  \\\n",
       "count  3.708790e+07  3.708790e+07  3.708790e+07  3.708790e+07  3.708790e+07   \n",
       "mean   2.512375e+05  8.343990e+04  7.021606e+01  4.585459e+00  6.555843e+00   \n",
       "std    2.997270e+04  4.967291e+04  9.831410e+01  2.225027e+00  1.779115e+00   \n",
       "min    2.000010e+05  2.000000e+00 -1.000000e+00  1.000000e+00  4.000000e+00   \n",
       "25%    2.255660e+05  4.033600e+04 -1.000000e+00  1.000000e+00  5.000000e+00   \n",
       "50%    2.496840e+05  7.961600e+04  0.000000e+00  6.000000e+00  7.000000e+00   \n",
       "75%    2.770230e+05  1.268850e+05  2.160000e+02  6.000000e+00  8.000000e+00   \n",
       "max    3.053210e+05  1.712250e+05  3.480000e+02  6.000000e+00  1.100000e+01   \n",
       "\n",
       "              brand        year         month           day   week_action  \\\n",
       "count  3.708790e+07  37087895.0  3.708790e+07  3.708790e+07  3.708790e+07   \n",
       "mean   4.320840e+02      2016.0  3.021504e+00  1.396212e+01  1.074438e+01   \n",
       "std    2.423722e+02         0.0  7.012815e-01  8.297387e+00  2.788090e+00   \n",
       "min    4.000000e+00      2016.0  1.000000e+00  1.000000e+00  4.000000e+00   \n",
       "25%    2.140000e+02      2016.0  3.000000e+00  7.000000e+00  9.000000e+00   \n",
       "50%    4.620000e+02      2016.0  3.000000e+00  1.300000e+01  1.100000e+01   \n",
       "75%    6.230000e+02      2016.0  4.000000e+00  2.000000e+01  1.300000e+01   \n",
       "max    9.230000e+02      2016.0  4.000000e+00  3.100000e+01  1.500000e+01   \n",
       "\n",
       "               hour   unix_action           age           sex    user_lv_cd  \\\n",
       "count  3.708790e+07  3.708790e+07  3.708790e+07  3.708790e+07  3.708790e+07   \n",
       "mean   1.446938e+01  1.458062e+09  2.021405e+00  9.817617e-01  4.145592e+00   \n",
       "std    6.348362e+00  1.684718e+06  1.237800e+00  9.614391e-01  9.670898e-01   \n",
       "min    0.000000e+00  1.454285e+09 -1.000000e+00  0.000000e+00  1.000000e+00   \n",
       "25%    1.000000e+01  1.456869e+09  2.000000e+00  0.000000e+00  4.000000e+00   \n",
       "50%    1.500000e+01  1.458051e+09  2.000000e+00  1.000000e+00  4.000000e+00   \n",
       "75%    2.000000e+01  1.459523e+09  3.000000e+00  2.000000e+00  5.000000e+00   \n",
       "max    2.300000e+01  1.460765e+09  5.000000e+00  2.000000e+00  5.000000e+00   \n",
       "\n",
       "       year_user_reg  month_user_reg  day_user_reg  unix_user_reg  \\\n",
       "count   3.708790e+07    3.708790e+07  3.708790e+07   3.708790e+07   \n",
       "mean    2.012651e+03    6.538999e+00  1.556885e+01   1.361701e+09   \n",
       "std     2.045471e+00    3.508692e+00  8.718407e+00   6.362080e+07   \n",
       "min     2.003000e+03    1.000000e+00  1.000000e+00   1.055722e+09   \n",
       "25%     2.011000e+03    3.000000e+00  8.000000e+00   1.317773e+09   \n",
       "50%     2.013000e+03    6.000000e+00  1.500000e+01   1.363738e+09   \n",
       "75%     2.014000e+03    1.000000e+01  2.300000e+01   1.415664e+09   \n",
       "max     2.016000e+03    1.200000e+01  3.100000e+01   1.480032e+09   \n",
       "\n",
       "                 a1            a2            a3   comment_num  \\\n",
       "count  3.708790e+07  3.708790e+07  3.708790e+07  3.708790e+07   \n",
       "mean   9.648477e-02 -2.177775e-01 -1.554245e-01  6.371210e-01   \n",
       "std    1.592587e+00  1.106496e+00  1.238827e+00  1.440554e+00   \n",
       "min   -1.000000e+00 -1.000000e+00 -1.000000e+00  0.000000e+00   \n",
       "25%   -1.000000e+00 -1.000000e+00 -1.000000e+00  0.000000e+00   \n",
       "50%   -1.000000e+00 -1.000000e+00 -1.000000e+00  0.000000e+00   \n",
       "75%    1.000000e+00  1.000000e+00  1.000000e+00  0.000000e+00   \n",
       "max    3.000000e+00  2.000000e+00  2.000000e+00  4.000000e+00   \n",
       "\n",
       "       has_bad_comment  bad_comment_rate  week_comment  unix_comment  \n",
       "count     3.708790e+07      3.708790e+07  3.708790e+07  3.708790e+07  \n",
       "mean      1.520561e-01      4.911033e-03  1.905458e+00  2.460816e+08  \n",
       "std       3.590752e-01      1.796169e-02  4.397562e+00  5.461342e+08  \n",
       "min       0.000000e+00      0.000000e+00  0.000000e+00  0.000000e+00  \n",
       "25%       0.000000e+00      0.000000e+00  0.000000e+00  0.000000e+00  \n",
       "50%       0.000000e+00      0.000000e+00  0.000000e+00  0.000000e+00  \n",
       "75%       0.000000e+00      0.000000e+00  0.000000e+00  0.000000e+00  \n",
       "max       1.000000e+00      1.000000e+00  1.500000e+01  1.460678e+09  "
      ]
     },
     "execution_count": 70,
     "metadata": {},
     "output_type": "execute_result"
    }
   ],
   "source": [
    "df.describe()"
   ]
  },
  {
   "cell_type": "markdown",
   "metadata": {},
   "source": [
    "# Basic"
   ]
  },
  {
   "cell_type": "code",
   "execution_count": 26,
   "metadata": {},
   "outputs": [],
   "source": [
    "# user purchase count\n",
    "purchase = df[df.type == 4]\n",
    "purchase_counts = purchase.groupby('user_id').sku_id.count()"
   ]
  },
  {
   "cell_type": "code",
   "execution_count": 24,
   "metadata": {},
   "outputs": [
    {
     "data": {
      "text/plain": [
       "count    29485.000000\n",
       "mean         1.633068\n",
       "std          1.386496\n",
       "min          1.000000\n",
       "25%          1.000000\n",
       "50%          1.000000\n",
       "75%          2.000000\n",
       "max         50.000000\n",
       "Name: sku_id, dtype: float64"
      ]
     },
     "execution_count": 24,
     "metadata": {},
     "output_type": "execute_result"
    }
   ],
   "source": [
    "purchase_counts.describe()"
   ]
  },
  {
   "cell_type": "code",
   "execution_count": 23,
   "metadata": {},
   "outputs": [
    {
     "name": "stderr",
     "output_type": "stream",
     "text": [
      "/usr/local/lib/python3.5/dist-packages/scipy/stats/stats.py:1713: FutureWarning: Using a non-tuple sequence for multidimensional indexing is deprecated; use `arr[tuple(seq)]` instead of `arr[seq]`. In the future this will be interpreted as an array index, `arr[np.array(seq)]`, which will result either in an error or a different result.\n",
      "  return np.add.reduce(sorted[indexer] * weights, axis=axis) / sumval\n"
     ]
    },
    {
     "data": {
      "image/png": "[encoded data removed]",
      "text/plain": [
       "<matplotlib.figure.Figure at 0x7ff512fe5550>"
      ]
     },
     "metadata": {},
     "output_type": "display_data"
    }
   ],
   "source": [
    "plt.figure(figsize=(10, 7))\n",
    "ax = sns.distplot(purchase_counts, kde=False)"
   ]
  },
  {
   "cell_type": "code",
   "execution_count": 37,
   "metadata": {},
   "outputs": [],
   "source": [
    "purchase_same_product = purchase.groupby(['user_id', 'sku_id']).unix_action.count().reset_index().rename(columns={'unix_action': 'cnt'})"
   ]
  },
  {
   "cell_type": "code",
   "execution_count": 38,
   "metadata": {},
   "outputs": [
    {
     "data": {
      "text/plain": [
       "count    46607.000000\n",
       "mean         1.033128\n",
       "std          0.256188\n",
       "min          1.000000\n",
       "25%          1.000000\n",
       "50%          1.000000\n",
       "75%          1.000000\n",
       "max         20.000000\n",
       "Name: cnt, dtype: float64"
      ]
     },
     "execution_count": 38,
     "metadata": {},
     "output_type": "execute_result"
    }
   ],
   "source": [
    "purchase_same_product.cnt.describe()"
   ]
  },
  {
   "cell_type": "code",
   "execution_count": 40,
   "metadata": {},
   "outputs": [
    {
     "data": {
      "text/plain": [
       "1188"
      ]
     },
     "execution_count": 40,
     "metadata": {},
     "output_type": "execute_result"
    }
   ],
   "source": [
    "len(purchase_same_product[purchase_same_product.cnt > 1])"
   ]
  },
  {
   "cell_type": "code",
   "execution_count": 42,
   "metadata": {},
   "outputs": [],
   "source": [
    "purchase_same_brand = purchase.groupby(['user_id', 'brand']).unix_action.count().reset_index().rename(columns={'unix_action': 'cnt'})"
   ]
  },
  {
   "cell_type": "code",
   "execution_count": 44,
   "metadata": {},
   "outputs": [
    {
     "data": {
      "text/plain": [
       "count    42149.000000\n",
       "mean         1.142400\n",
       "std          0.558169\n",
       "min          1.000000\n",
       "25%          1.000000\n",
       "50%          1.000000\n",
       "75%          1.000000\n",
       "max         22.000000\n",
       "Name: cnt, dtype: float64"
      ]
     },
     "execution_count": 44,
     "metadata": {},
     "output_type": "execute_result"
    }
   ],
   "source": [
    "purchase_same_brand.cnt.describe()"
   ]
  },
  {
   "cell_type": "code",
   "execution_count": 45,
   "metadata": {},
   "outputs": [
    {
     "data": {
      "text/plain": [
       "4175"
      ]
     },
     "execution_count": 45,
     "metadata": {},
     "output_type": "execute_result"
    }
   ],
   "source": [
    "len(purchase_same_brand[purchase_same_brand.cnt > 1])"
   ]
  },
  {
   "cell_type": "code",
   "execution_count": 46,
   "metadata": {},
   "outputs": [],
   "source": [
    "purchase_same_cate = purchase.groupby(['user_id', 'cate']).unix_action.count().reset_index().rename(columns={'unix_action': 'cnt'})"
   ]
  },
  {
   "cell_type": "code",
   "execution_count": 47,
   "metadata": {},
   "outputs": [
    {
     "data": {
      "text/plain": [
       "count    42474.000000\n",
       "mean         1.133658\n",
       "std          0.672877\n",
       "min          1.000000\n",
       "25%          1.000000\n",
       "50%          1.000000\n",
       "75%          1.000000\n",
       "max         38.000000\n",
       "Name: cnt, dtype: float64"
      ]
     },
     "execution_count": 47,
     "metadata": {},
     "output_type": "execute_result"
    }
   ],
   "source": [
    "purchase_same_cate.cnt.describe()"
   ]
  },
  {
   "cell_type": "code",
   "execution_count": 48,
   "metadata": {},
   "outputs": [
    {
     "data": {
      "text/plain": [
       "3504"
      ]
     },
     "execution_count": 48,
     "metadata": {},
     "output_type": "execute_result"
    }
   ],
   "source": [
    "len(purchase_same_cate[purchase_same_cate.cnt > 1])"
   ]
  },
  {
   "cell_type": "code",
   "execution_count": null,
   "metadata": {},
   "outputs": [],
   "source": []
  },
  {
   "cell_type": "code",
   "execution_count": 78,
   "metadata": {},
   "outputs": [
    {
     "data": {
      "text/plain": [
       "<matplotlib.axes._subplots.AxesSubplot at 0x7fa240e1b358>"
      ]
     },
     "execution_count": 78,
     "metadata": {},
     "output_type": "execute_result"
    },
    {
     "data": {
      "image/png": "[encoded data removed]",
      "text/plain": [
       "<matplotlib.figure.Figure at 0x7fa240e016a0>"
      ]
     },
     "metadata": {},
     "output_type": "display_data"
    }
   ],
   "source": [
    "# daily action\n",
    "df.groupby(['month', 'day']).user_id.count().plot()"
   ]
  },
  {
   "cell_type": "code",
   "execution_count": 80,
   "metadata": {},
   "outputs": [
    {
     "data": {
      "text/plain": [
       "<matplotlib.axes._subplots.AxesSubplot at 0x7fa2299b4780>"
      ]
     },
     "execution_count": 80,
     "metadata": {},
     "output_type": "execute_result"
    },
    {
     "data": {
      "image/png": "[encoded data removed]",
      "text/plain": [
       "<matplotlib.figure.Figure at 0x7fa241544dd8>"
      ]
     },
     "metadata": {},
     "output_type": "display_data"
    }
   ],
   "source": [
    "# daily purchase\n",
    "df[df.type==4].groupby(['month', 'day']).user_id.count().plot()"
   ]
  },
  {
   "cell_type": "code",
   "execution_count": 91,
   "metadata": {},
   "outputs": [
    {
     "data": {
      "text/plain": [
       "8     13272\n",
       "4      9255\n",
       "5      8131\n",
       "6      6974\n",
       "7      6211\n",
       "9      4101\n",
       "10      189\n",
       "11       18\n",
       "Name: cate, dtype: int64"
      ]
     },
     "execution_count": 91,
     "metadata": {},
     "output_type": "execute_result"
    }
   ],
   "source": [
    "df[df.type==4].cate.value_counts()"
   ]
  },
  {
   "cell_type": "code",
   "execution_count": 107,
   "metadata": {},
   "outputs": [],
   "source": [
    "dummy_types = pd.get_dummies(data=df.type)\n",
    "dummy_types.columns = ['browse', 'add_cart', 'rem_cart', 'purchase', 'follow', 'click']"
   ]
  },
  {
   "cell_type": "code",
   "execution_count": 110,
   "metadata": {},
   "outputs": [
    {
     "data": {
      "text/html": [
       "<div>\n",
       "<style scoped>\n",
       "    .dataframe tbody tr th:only-of-type {\n",
       "        vertical-align: middle;\n",
       "    }\n",
       "\n",
       "    .dataframe tbody tr th {\n",
       "        vertical-align: top;\n",
       "    }\n",
       "\n",
       "    .dataframe thead th {\n",
       "        text-align: right;\n",
       "    }\n",
       "</style>\n",
       "<table border=\"1\" class=\"dataframe\">\n",
       "  <thead>\n",
       "    <tr style=\"text-align: right;\">\n",
       "      <th></th>\n",
       "      <th>browse</th>\n",
       "      <th>add_cart</th>\n",
       "      <th>rem_cart</th>\n",
       "      <th>purchase</th>\n",
       "      <th>follow</th>\n",
       "      <th>click</th>\n",
       "    </tr>\n",
       "  </thead>\n",
       "  <tbody>\n",
       "    <tr>\n",
       "      <th>0</th>\n",
       "      <td>1</td>\n",
       "      <td>0</td>\n",
       "      <td>0</td>\n",
       "      <td>0</td>\n",
       "      <td>0</td>\n",
       "      <td>0</td>\n",
       "    </tr>\n",
       "    <tr>\n",
       "      <th>1</th>\n",
       "      <td>0</td>\n",
       "      <td>0</td>\n",
       "      <td>0</td>\n",
       "      <td>0</td>\n",
       "      <td>0</td>\n",
       "      <td>1</td>\n",
       "    </tr>\n",
       "    <tr>\n",
       "      <th>2</th>\n",
       "      <td>1</td>\n",
       "      <td>0</td>\n",
       "      <td>0</td>\n",
       "      <td>0</td>\n",
       "      <td>0</td>\n",
       "      <td>0</td>\n",
       "    </tr>\n",
       "    <tr>\n",
       "      <th>3</th>\n",
       "      <td>0</td>\n",
       "      <td>0</td>\n",
       "      <td>0</td>\n",
       "      <td>0</td>\n",
       "      <td>0</td>\n",
       "      <td>1</td>\n",
       "    </tr>\n",
       "    <tr>\n",
       "      <th>4</th>\n",
       "      <td>1</td>\n",
       "      <td>0</td>\n",
       "      <td>0</td>\n",
       "      <td>0</td>\n",
       "      <td>0</td>\n",
       "      <td>0</td>\n",
       "    </tr>\n",
       "  </tbody>\n",
       "</table>\n",
       "</div>"
      ],
      "text/plain": [
       "   browse  add_cart  rem_cart  purchase  follow  click\n",
       "0       1         0         0         0       0      0\n",
       "1       0         0         0         0       0      1\n",
       "2       1         0         0         0       0      0\n",
       "3       0         0         0         0       0      1\n",
       "4       1         0         0         0       0      0"
      ]
     },
     "execution_count": 110,
     "metadata": {},
     "output_type": "execute_result"
    }
   ],
   "source": [
    "dummy_types.head()"
   ]
  },
  {
   "cell_type": "code",
   "execution_count": 102,
   "metadata": {},
   "outputs": [],
   "source": [
    "df[dummy_types.columns] = dummy_types"
   ]
  },
  {
   "cell_type": "code",
   "execution_count": 113,
   "metadata": {},
   "outputs": [
    {
     "data": {
      "text/html": [
       "<div>\n",
       "<style scoped>\n",
       "    .dataframe tbody tr th:only-of-type {\n",
       "        vertical-align: middle;\n",
       "    }\n",
       "\n",
       "    .dataframe tbody tr th {\n",
       "        vertical-align: top;\n",
       "    }\n",
       "\n",
       "    .dataframe thead th {\n",
       "        text-align: right;\n",
       "    }\n",
       "</style>\n",
       "<table border=\"1\" class=\"dataframe\">\n",
       "  <thead>\n",
       "    <tr style=\"text-align: right;\">\n",
       "      <th></th>\n",
       "      <th>user_id</th>\n",
       "      <th>sku_id</th>\n",
       "      <th>model_id</th>\n",
       "      <th>type</th>\n",
       "      <th>cate</th>\n",
       "      <th>brand</th>\n",
       "      <th>year</th>\n",
       "      <th>month</th>\n",
       "      <th>day</th>\n",
       "      <th>week_action</th>\n",
       "      <th>hour</th>\n",
       "      <th>unix_action</th>\n",
       "      <th>age</th>\n",
       "      <th>sex</th>\n",
       "      <th>user_lv_cd</th>\n",
       "      <th>year_user_reg</th>\n",
       "      <th>month_user_reg</th>\n",
       "      <th>day_user_reg</th>\n",
       "      <th>unix_user_reg</th>\n",
       "      <th>a1</th>\n",
       "      <th>a2</th>\n",
       "      <th>a3</th>\n",
       "      <th>comment_num</th>\n",
       "      <th>has_bad_comment</th>\n",
       "      <th>bad_comment_rate</th>\n",
       "      <th>week_comment</th>\n",
       "      <th>unix_comment</th>\n",
       "      <th>browse</th>\n",
       "      <th>add_cart</th>\n",
       "      <th>rem_cart</th>\n",
       "      <th>purchase</th>\n",
       "      <th>follow</th>\n",
       "      <th>click</th>\n",
       "    </tr>\n",
       "  </thead>\n",
       "  <tbody>\n",
       "    <tr>\n",
       "      <th>0</th>\n",
       "      <td>266079</td>\n",
       "      <td>138778</td>\n",
       "      <td>-1</td>\n",
       "      <td>1</td>\n",
       "      <td>8</td>\n",
       "      <td>403</td>\n",
       "      <td>2016</td>\n",
       "      <td>1</td>\n",
       "      <td>31</td>\n",
       "      <td>4</td>\n",
       "      <td>23</td>\n",
       "      <td>1454284742</td>\n",
       "      <td>2</td>\n",
       "      <td>2</td>\n",
       "      <td>5</td>\n",
       "      <td>2012</td>\n",
       "      <td>6</td>\n",
       "      <td>15</td>\n",
       "      <td>1339718400</td>\n",
       "      <td>1</td>\n",
       "      <td>1</td>\n",
       "      <td>1</td>\n",
       "      <td>0</td>\n",
       "      <td>0</td>\n",
       "      <td>0.0</td>\n",
       "      <td>0</td>\n",
       "      <td>0</td>\n",
       "      <td>1</td>\n",
       "      <td>0</td>\n",
       "      <td>0</td>\n",
       "      <td>0</td>\n",
       "      <td>0</td>\n",
       "      <td>0</td>\n",
       "    </tr>\n",
       "    <tr>\n",
       "      <th>1</th>\n",
       "      <td>266079</td>\n",
       "      <td>138778</td>\n",
       "      <td>0</td>\n",
       "      <td>6</td>\n",
       "      <td>8</td>\n",
       "      <td>403</td>\n",
       "      <td>2016</td>\n",
       "      <td>1</td>\n",
       "      <td>31</td>\n",
       "      <td>4</td>\n",
       "      <td>23</td>\n",
       "      <td>1454284743</td>\n",
       "      <td>2</td>\n",
       "      <td>2</td>\n",
       "      <td>5</td>\n",
       "      <td>2012</td>\n",
       "      <td>6</td>\n",
       "      <td>15</td>\n",
       "      <td>1339718400</td>\n",
       "      <td>1</td>\n",
       "      <td>1</td>\n",
       "      <td>1</td>\n",
       "      <td>0</td>\n",
       "      <td>0</td>\n",
       "      <td>0.0</td>\n",
       "      <td>0</td>\n",
       "      <td>0</td>\n",
       "      <td>0</td>\n",
       "      <td>0</td>\n",
       "      <td>0</td>\n",
       "      <td>0</td>\n",
       "      <td>0</td>\n",
       "      <td>1</td>\n",
       "    </tr>\n",
       "    <tr>\n",
       "      <th>2</th>\n",
       "      <td>200719</td>\n",
       "      <td>61226</td>\n",
       "      <td>-1</td>\n",
       "      <td>1</td>\n",
       "      <td>8</td>\n",
       "      <td>30</td>\n",
       "      <td>2016</td>\n",
       "      <td>1</td>\n",
       "      <td>31</td>\n",
       "      <td>4</td>\n",
       "      <td>23</td>\n",
       "      <td>1454284747</td>\n",
       "      <td>4</td>\n",
       "      <td>2</td>\n",
       "      <td>3</td>\n",
       "      <td>2016</td>\n",
       "      <td>1</td>\n",
       "      <td>31</td>\n",
       "      <td>1454198400</td>\n",
       "      <td>1</td>\n",
       "      <td>2</td>\n",
       "      <td>1</td>\n",
       "      <td>0</td>\n",
       "      <td>0</td>\n",
       "      <td>0.0</td>\n",
       "      <td>0</td>\n",
       "      <td>0</td>\n",
       "      <td>1</td>\n",
       "      <td>0</td>\n",
       "      <td>0</td>\n",
       "      <td>0</td>\n",
       "      <td>0</td>\n",
       "      <td>0</td>\n",
       "    </tr>\n",
       "    <tr>\n",
       "      <th>3</th>\n",
       "      <td>200719</td>\n",
       "      <td>61226</td>\n",
       "      <td>0</td>\n",
       "      <td>6</td>\n",
       "      <td>8</td>\n",
       "      <td>30</td>\n",
       "      <td>2016</td>\n",
       "      <td>1</td>\n",
       "      <td>31</td>\n",
       "      <td>4</td>\n",
       "      <td>23</td>\n",
       "      <td>1454284748</td>\n",
       "      <td>4</td>\n",
       "      <td>2</td>\n",
       "      <td>3</td>\n",
       "      <td>2016</td>\n",
       "      <td>1</td>\n",
       "      <td>31</td>\n",
       "      <td>1454198400</td>\n",
       "      <td>1</td>\n",
       "      <td>2</td>\n",
       "      <td>1</td>\n",
       "      <td>0</td>\n",
       "      <td>0</td>\n",
       "      <td>0.0</td>\n",
       "      <td>0</td>\n",
       "      <td>0</td>\n",
       "      <td>0</td>\n",
       "      <td>0</td>\n",
       "      <td>0</td>\n",
       "      <td>0</td>\n",
       "      <td>0</td>\n",
       "      <td>1</td>\n",
       "    </tr>\n",
       "    <tr>\n",
       "      <th>4</th>\n",
       "      <td>263587</td>\n",
       "      <td>72348</td>\n",
       "      <td>-1</td>\n",
       "      <td>1</td>\n",
       "      <td>5</td>\n",
       "      <td>159</td>\n",
       "      <td>2016</td>\n",
       "      <td>1</td>\n",
       "      <td>31</td>\n",
       "      <td>4</td>\n",
       "      <td>23</td>\n",
       "      <td>1454284748</td>\n",
       "      <td>3</td>\n",
       "      <td>2</td>\n",
       "      <td>4</td>\n",
       "      <td>2015</td>\n",
       "      <td>1</td>\n",
       "      <td>12</td>\n",
       "      <td>1421020800</td>\n",
       "      <td>-1</td>\n",
       "      <td>-1</td>\n",
       "      <td>-1</td>\n",
       "      <td>0</td>\n",
       "      <td>0</td>\n",
       "      <td>0.0</td>\n",
       "      <td>0</td>\n",
       "      <td>0</td>\n",
       "      <td>1</td>\n",
       "      <td>0</td>\n",
       "      <td>0</td>\n",
       "      <td>0</td>\n",
       "      <td>0</td>\n",
       "      <td>0</td>\n",
       "    </tr>\n",
       "  </tbody>\n",
       "</table>\n",
       "</div>"
      ],
      "text/plain": [
       "   user_id  sku_id  model_id  type  cate  brand  year  month  day  \\\n",
       "0   266079  138778        -1     1     8    403  2016      1   31   \n",
       "1   266079  138778         0     6     8    403  2016      1   31   \n",
       "2   200719   61226        -1     1     8     30  2016      1   31   \n",
       "3   200719   61226         0     6     8     30  2016      1   31   \n",
       "4   263587   72348        -1     1     5    159  2016      1   31   \n",
       "\n",
       "   week_action  hour  unix_action  age  sex  user_lv_cd  year_user_reg  \\\n",
       "0            4    23   1454284742    2    2           5           2012   \n",
       "1            4    23   1454284743    2    2           5           2012   \n",
       "2            4    23   1454284747    4    2           3           2016   \n",
       "3            4    23   1454284748    4    2           3           2016   \n",
       "4            4    23   1454284748    3    2           4           2015   \n",
       "\n",
       "   month_user_reg  day_user_reg  unix_user_reg  a1  a2  a3  comment_num  \\\n",
       "0               6            15     1339718400   1   1   1            0   \n",
       "1               6            15     1339718400   1   1   1            0   \n",
       "2               1            31     1454198400   1   2   1            0   \n",
       "3               1            31     1454198400   1   2   1            0   \n",
       "4               1            12     1421020800  -1  -1  -1            0   \n",
       "\n",
       "   has_bad_comment  bad_comment_rate  week_comment  unix_comment  browse  \\\n",
       "0                0               0.0             0             0       1   \n",
       "1                0               0.0             0             0       0   \n",
       "2                0               0.0             0             0       1   \n",
       "3                0               0.0             0             0       0   \n",
       "4                0               0.0             0             0       1   \n",
       "\n",
       "   add_cart  rem_cart  purchase  follow  click  \n",
       "0         0         0         0       0      0  \n",
       "1         0         0         0       0      1  \n",
       "2         0         0         0       0      0  \n",
       "3         0         0         0       0      1  \n",
       "4         0         0         0       0      0  "
      ]
     },
     "execution_count": 113,
     "metadata": {},
     "output_type": "execute_result"
    }
   ],
   "source": [
    "df.head()"
   ]
  },
  {
   "cell_type": "code",
   "execution_count": 114,
   "metadata": {},
   "outputs": [],
   "source": [
    "# user (sex, user_lv_cd, user_reg_tm)"
   ]
  },
  {
   "cell_type": "code",
   "execution_count": 120,
   "metadata": {},
   "outputs": [
    {
     "data": {
      "text/plain": [
       "0    37039744\n",
       "1       48151\n",
       "Name: purchase, dtype: int64"
      ]
     },
     "execution_count": 120,
     "metadata": {},
     "output_type": "execute_result"
    }
   ],
   "source": [
    "df.purchase.value_counts()"
   ]
  },
  {
   "cell_type": "code",
   "execution_count": 125,
   "metadata": {},
   "outputs": [
    {
     "data": {
      "text/plain": [
       "0    75695\n",
       "1    29485\n",
       "Name: purchase, dtype: int64"
      ]
     },
     "execution_count": 125,
     "metadata": {},
     "output_type": "execute_result"
    }
   ],
   "source": [
    "df.groupby('user_id').agg({'purchase': np.max}).reset_index().purchase.value_counts()"
   ]
  },
  {
   "cell_type": "code",
   "execution_count": 138,
   "metadata": {},
   "outputs": [],
   "source": [
    "category_cols = ['sku_id', 'model_id', 'type', 'cate', 'brand', 'age', 'sex', 'user_lv_cd', 'a1', 'a2', 'a3', 'has_bad_comment']\n",
    "numeric_cols = ['comment_num', 'bad_comment_rate']"
   ]
  },
  {
   "cell_type": "code",
   "execution_count": 143,
   "metadata": {},
   "outputs": [
    {
     "name": "stderr",
     "output_type": "stream",
     "text": [
      "/usr/local/lib/python3.5/dist-packages/matplotlib/scale.py:111: RuntimeWarning: invalid value encountered in less_equal\n",
      "  out[a <= 0] = -1000\n"
     ]
    },
    {
     "data": {
      "image/png": "[encoded data removed]",
      "text/plain": [
       "<matplotlib.figure.Figure at 0x7fa22951ff98>"
      ]
     },
     "metadata": {},
     "output_type": "display_data"
    }
   ],
   "source": [
    "plt.figure(figsize=(15, 9))\n",
    "category_uniques = [df[c].nunique() for c in category_cols]\n",
    "sns.set(font_scale=1.2)\n",
    "ax = sns.barplot(category_cols, category_uniques, log=True)\n",
    "ax.set(xlabel='Feature', ylabel='log(unique count)', title='Number of unique values per feature')\n",
    "for p, uniq in zip(ax.patches, category_uniques):\n",
    "    height = p.get_height()\n",
    "    ax.text(p.get_x() + p.get_width()/2.,\n",
    "            height + 5,\n",
    "            uniq,\n",
    "            ha=\"center\") "
   ]
  },
  {
   "cell_type": "markdown",
   "metadata": {},
   "source": [
    "# 用戶 (id/年齡/性別/等級/註冊日期) vs 購買行為 (瀏覽/加入購物車/移除購物車/下單/關注/點擊)"
   ]
  },
  {
   "cell_type": "code",
   "execution_count": 167,
   "metadata": {},
   "outputs": [],
   "source": [
    "action_by_sex = (\n",
    "    df[[\"user_id\", \"sex\"]]\n",
    "    .groupby(\"sex\", as_index=False)\n",
    "    .agg({\"user_id\": pd.Series.nunique})\n",
    "    .rename(columns={\"user_id\": \"unique_cnt\"})\n",
    ")"
   ]
  },
  {
   "cell_type": "code",
   "execution_count": 204,
   "metadata": {},
   "outputs": [
    {
     "data": {
      "text/plain": [
       "0    42787\n",
       "1     7731\n",
       "2    54662\n",
       "Name: unique_cnt, dtype: int32"
      ]
     },
     "execution_count": 204,
     "metadata": {},
     "output_type": "execute_result"
    }
   ],
   "source": [
    "action_by_sex.unique_cnt"
   ]
  },
  {
   "cell_type": "code",
   "execution_count": 208,
   "metadata": {},
   "outputs": [
    {
     "name": "stderr",
     "output_type": "stream",
     "text": [
      "/usr/local/lib/python3.5/dist-packages/matplotlib/scale.py:111: RuntimeWarning: invalid value encountered in less_equal\n",
      "  out[a <= 0] = -1000\n"
     ]
    },
    {
     "data": {
      "image/png": "[encoded data removed]",
      "text/plain": [
       "<matplotlib.figure.Figure at 0x7fa22027e7b8>"
      ]
     },
     "metadata": {},
     "output_type": "display_data"
    }
   ],
   "source": [
    "plt.figure(figsize=(10, 6))\n",
    "ax = sns.barplot(action_by_sex.sex, action_by_sex.unique_cnt, log=True)\n",
    "ax.set(xlabel='Feature', ylabel='log(unique count)', title='Number of unique action per sex')\n",
    "for p, uniq in zip(ax.patches, action_by_sex.unique_cnt):\n",
    "    height = p.get_height()\n",
    "    ax.text(p.get_x() + p.get_width()/2,\n",
    "            height + 5,\n",
    "            uniq,\n",
    "            ha=\"center\") "
   ]
  },
  {
   "cell_type": "code",
   "execution_count": 198,
   "metadata": {},
   "outputs": [],
   "source": [
    "purchase_by_sex = (\n",
    "    df[df.purchase == 1][[\"user_id\", \"sex\"]]\n",
    "    .groupby(\"sex\", as_index=False)\n",
    "    .agg({\"user_id\": pd.Series.nunique})\n",
    "    .rename(columns={\"user_id\": \"unique_cnt\"})\n",
    ")"
   ]
  },
  {
   "cell_type": "code",
   "execution_count": 216,
   "metadata": {},
   "outputs": [
    {
     "name": "stderr",
     "output_type": "stream",
     "text": [
      "/usr/local/lib/python3.5/dist-packages/matplotlib/scale.py:111: RuntimeWarning: invalid value encountered in less_equal\n",
      "  out[a <= 0] = -1000\n"
     ]
    },
    {
     "data": {
      "image/png": "[encoded data removed]",
      "text/plain": [
       "<matplotlib.figure.Figure at 0x7fa220266780>"
      ]
     },
     "metadata": {},
     "output_type": "display_data"
    }
   ],
   "source": [
    "plt.figure(figsize=(10, 6))\n",
    "ax = sns.barplot(purchase_by_sex.sex, purchase_by_sex.unique_cnt, log=True)\n",
    "ax.set(xlabel='Feature', ylabel='log(unique count)', title='Number of unique purchase per sex')\n",
    "for p, uniq in zip(ax.patches, purchase_by_sex.unique_cnt):\n",
    "    height = p.get_height()\n",
    "    ax.text(p.get_x() + p.get_width()/2.,\n",
    "            height,\n",
    "            uniq,\n",
    "            ha=\"center\") "
   ]
  },
  {
   "cell_type": "code",
   "execution_count": 185,
   "metadata": {},
   "outputs": [],
   "source": [
    "purchase_ratio = action_by_sex.merge(purchase_by_sex, on='sex', suffixes=['_action', '_purchase'])\n",
    "purchase_ratio['ratio'] = purchase_ratio.unique_cnt_purchase / purchase_ratio.unique_cnt_action"
   ]
  },
  {
   "cell_type": "code",
   "execution_count": 192,
   "metadata": {},
   "outputs": [
    {
     "data": {
      "text/plain": [
       "<matplotlib.axes._subplots.AxesSubplot at 0x7fa229331630>"
      ]
     },
     "execution_count": 192,
     "metadata": {},
     "output_type": "execute_result"
    },
    {
     "data": {
      "text/plain": [
       "<matplotlib.figure.Figure at 0x7fa2292f2978>"
      ]
     },
     "metadata": {},
     "output_type": "display_data"
    },
    {
     "data": {
      "image/png": "[encoded data removed]",
      "text/plain": [
       "<matplotlib.figure.Figure at 0x7fa2293a4470>"
      ]
     },
     "metadata": {},
     "output_type": "display_data"
    }
   ],
   "source": [
    "plt.figure(figsize=(10, 6))\n",
    "purchase_ratio[['sex', 'ratio']].plot.bar(x='sex', y='ratio', rot=0)"
   ]
  },
  {
   "cell_type": "code",
   "execution_count": null,
   "metadata": {},
   "outputs": [],
   "source": [
    "## purchase analysis"
   ]
  },
  {
   "cell_type": "code",
   "execution_count": 3,
   "metadata": {},
   "outputs": [
    {
     "name": "stdout",
     "output_type": "stream",
     "text": [
      "CPU times: user 48.8 s, sys: 5.2 s, total: 54 s\n",
      "Wall time: 54.1 s\n"
     ]
    },
    {
     "data": {
      "text/html": [
       "<div>\n",
       "<style scoped>\n",
       "    .dataframe tbody tr th:only-of-type {\n",
       "        vertical-align: middle;\n",
       "    }\n",
       "\n",
       "    .dataframe tbody tr th {\n",
       "        vertical-align: top;\n",
       "    }\n",
       "\n",
       "    .dataframe thead th {\n",
       "        text-align: right;\n",
       "    }\n",
       "</style>\n",
       "<table border=\"1\" class=\"dataframe\">\n",
       "  <thead>\n",
       "    <tr style=\"text-align: right;\">\n",
       "      <th></th>\n",
       "      <th>user_id</th>\n",
       "      <th>sku_id</th>\n",
       "      <th>model_id</th>\n",
       "      <th>type</th>\n",
       "      <th>cate</th>\n",
       "      <th>brand</th>\n",
       "      <th>year</th>\n",
       "      <th>month</th>\n",
       "      <th>day</th>\n",
       "      <th>week_action</th>\n",
       "      <th>hour</th>\n",
       "      <th>unix_action</th>\n",
       "      <th>age</th>\n",
       "      <th>sex</th>\n",
       "      <th>user_lv_cd</th>\n",
       "      <th>year_user_reg</th>\n",
       "      <th>month_user_reg</th>\n",
       "      <th>day_user_reg</th>\n",
       "      <th>unix_user_reg</th>\n",
       "      <th>a1</th>\n",
       "      <th>a2</th>\n",
       "      <th>a3</th>\n",
       "      <th>comment_num</th>\n",
       "      <th>has_bad_comment</th>\n",
       "      <th>bad_comment_rate</th>\n",
       "      <th>week_comment</th>\n",
       "      <th>unix_comment</th>\n",
       "    </tr>\n",
       "  </thead>\n",
       "  <tbody>\n",
       "    <tr>\n",
       "      <th>283617</th>\n",
       "      <td>209665</td>\n",
       "      <td>15168</td>\n",
       "      <td>0</td>\n",
       "      <td>6</td>\n",
       "      <td>6</td>\n",
       "      <td>78</td>\n",
       "      <td>2016</td>\n",
       "      <td>2</td>\n",
       "      <td>2</td>\n",
       "      <td>5</td>\n",
       "      <td>0</td>\n",
       "      <td>1454371200</td>\n",
       "      <td>2</td>\n",
       "      <td>0</td>\n",
       "      <td>5</td>\n",
       "      <td>2008</td>\n",
       "      <td>11</td>\n",
       "      <td>27</td>\n",
       "      <td>1227744000</td>\n",
       "      <td>-1</td>\n",
       "      <td>-1</td>\n",
       "      <td>-1</td>\n",
       "      <td>0</td>\n",
       "      <td>0</td>\n",
       "      <td>0.0</td>\n",
       "      <td>0</td>\n",
       "      <td>0</td>\n",
       "    </tr>\n",
       "    <tr>\n",
       "      <th>283618</th>\n",
       "      <td>239179</td>\n",
       "      <td>36638</td>\n",
       "      <td>-1</td>\n",
       "      <td>2</td>\n",
       "      <td>5</td>\n",
       "      <td>479</td>\n",
       "      <td>2016</td>\n",
       "      <td>2</td>\n",
       "      <td>2</td>\n",
       "      <td>5</td>\n",
       "      <td>0</td>\n",
       "      <td>1454371200</td>\n",
       "      <td>1</td>\n",
       "      <td>0</td>\n",
       "      <td>5</td>\n",
       "      <td>2011</td>\n",
       "      <td>11</td>\n",
       "      <td>6</td>\n",
       "      <td>1320537600</td>\n",
       "      <td>-1</td>\n",
       "      <td>-1</td>\n",
       "      <td>-1</td>\n",
       "      <td>0</td>\n",
       "      <td>0</td>\n",
       "      <td>0.0</td>\n",
       "      <td>0</td>\n",
       "      <td>0</td>\n",
       "    </tr>\n",
       "    <tr>\n",
       "      <th>283619</th>\n",
       "      <td>288741</td>\n",
       "      <td>31662</td>\n",
       "      <td>21</td>\n",
       "      <td>6</td>\n",
       "      <td>8</td>\n",
       "      <td>545</td>\n",
       "      <td>2016</td>\n",
       "      <td>2</td>\n",
       "      <td>2</td>\n",
       "      <td>5</td>\n",
       "      <td>0</td>\n",
       "      <td>1454371200</td>\n",
       "      <td>2</td>\n",
       "      <td>1</td>\n",
       "      <td>4</td>\n",
       "      <td>2015</td>\n",
       "      <td>8</td>\n",
       "      <td>30</td>\n",
       "      <td>1440892800</td>\n",
       "      <td>1</td>\n",
       "      <td>1</td>\n",
       "      <td>1</td>\n",
       "      <td>0</td>\n",
       "      <td>0</td>\n",
       "      <td>0.0</td>\n",
       "      <td>0</td>\n",
       "      <td>0</td>\n",
       "    </tr>\n",
       "    <tr>\n",
       "      <th>283620</th>\n",
       "      <td>209665</td>\n",
       "      <td>15168</td>\n",
       "      <td>-1</td>\n",
       "      <td>1</td>\n",
       "      <td>6</td>\n",
       "      <td>78</td>\n",
       "      <td>2016</td>\n",
       "      <td>2</td>\n",
       "      <td>2</td>\n",
       "      <td>5</td>\n",
       "      <td>0</td>\n",
       "      <td>1454371200</td>\n",
       "      <td>2</td>\n",
       "      <td>0</td>\n",
       "      <td>5</td>\n",
       "      <td>2008</td>\n",
       "      <td>11</td>\n",
       "      <td>27</td>\n",
       "      <td>1227744000</td>\n",
       "      <td>-1</td>\n",
       "      <td>-1</td>\n",
       "      <td>-1</td>\n",
       "      <td>0</td>\n",
       "      <td>0</td>\n",
       "      <td>0.0</td>\n",
       "      <td>0</td>\n",
       "      <td>0</td>\n",
       "    </tr>\n",
       "    <tr>\n",
       "      <th>283621</th>\n",
       "      <td>267945</td>\n",
       "      <td>117882</td>\n",
       "      <td>-1</td>\n",
       "      <td>1</td>\n",
       "      <td>4</td>\n",
       "      <td>519</td>\n",
       "      <td>2016</td>\n",
       "      <td>2</td>\n",
       "      <td>2</td>\n",
       "      <td>5</td>\n",
       "      <td>0</td>\n",
       "      <td>1454371201</td>\n",
       "      <td>2</td>\n",
       "      <td>2</td>\n",
       "      <td>4</td>\n",
       "      <td>2012</td>\n",
       "      <td>7</td>\n",
       "      <td>6</td>\n",
       "      <td>1341532800</td>\n",
       "      <td>-1</td>\n",
       "      <td>-1</td>\n",
       "      <td>-1</td>\n",
       "      <td>0</td>\n",
       "      <td>0</td>\n",
       "      <td>0.0</td>\n",
       "      <td>0</td>\n",
       "      <td>0</td>\n",
       "    </tr>\n",
       "  </tbody>\n",
       "</table>\n",
       "</div>"
      ],
      "text/plain": [
       "        user_id  sku_id  model_id  type  cate  brand  year  month  day  \\\n",
       "283617   209665   15168         0     6     6     78  2016      2    2   \n",
       "283618   239179   36638        -1     2     5    479  2016      2    2   \n",
       "283619   288741   31662        21     6     8    545  2016      2    2   \n",
       "283620   209665   15168        -1     1     6     78  2016      2    2   \n",
       "283621   267945  117882        -1     1     4    519  2016      2    2   \n",
       "\n",
       "        week_action  hour  unix_action  age  sex  user_lv_cd  year_user_reg  \\\n",
       "283617            5     0   1454371200    2    0           5           2008   \n",
       "283618            5     0   1454371200    1    0           5           2011   \n",
       "283619            5     0   1454371200    2    1           4           2015   \n",
       "283620            5     0   1454371200    2    0           5           2008   \n",
       "283621            5     0   1454371201    2    2           4           2012   \n",
       "\n",
       "        month_user_reg  day_user_reg  unix_user_reg  a1  a2  a3  comment_num  \\\n",
       "283617              11            27     1227744000  -1  -1  -1            0   \n",
       "283618              11             6     1320537600  -1  -1  -1            0   \n",
       "283619               8            30     1440892800   1   1   1            0   \n",
       "283620              11            27     1227744000  -1  -1  -1            0   \n",
       "283621               7             6     1341532800  -1  -1  -1            0   \n",
       "\n",
       "        has_bad_comment  bad_comment_rate  week_comment  unix_comment  \n",
       "283617                0               0.0             0             0  \n",
       "283618                0               0.0             0             0  \n",
       "283619                0               0.0             0             0  \n",
       "283620                0               0.0             0             0  \n",
       "283621                0               0.0             0             0  "
      ]
     },
     "execution_count": 3,
     "metadata": {},
     "output_type": "execute_result"
    }
   ],
   "source": [
    "rw = TrainTestReadWriter()\n",
    "%time train, test = rw.read('all_merged')\n",
    "train.head()"
   ]
  },
  {
   "cell_type": "code",
   "execution_count": 4,
   "metadata": {},
   "outputs": [
    {
     "data": {
      "text/html": [
       "<div>\n",
       "<style scoped>\n",
       "    .dataframe tbody tr th:only-of-type {\n",
       "        vertical-align: middle;\n",
       "    }\n",
       "\n",
       "    .dataframe tbody tr th {\n",
       "        vertical-align: top;\n",
       "    }\n",
       "\n",
       "    .dataframe thead th {\n",
       "        text-align: right;\n",
       "    }\n",
       "</style>\n",
       "<table border=\"1\" class=\"dataframe\">\n",
       "  <thead>\n",
       "    <tr style=\"text-align: right;\">\n",
       "      <th></th>\n",
       "      <th>user_id</th>\n",
       "      <th>sku_id</th>\n",
       "      <th>model_id</th>\n",
       "      <th>type</th>\n",
       "      <th>cate</th>\n",
       "      <th>brand</th>\n",
       "      <th>year</th>\n",
       "      <th>month</th>\n",
       "      <th>day</th>\n",
       "      <th>week_action</th>\n",
       "      <th>hour</th>\n",
       "      <th>unix_action</th>\n",
       "      <th>age</th>\n",
       "      <th>sex</th>\n",
       "      <th>user_lv_cd</th>\n",
       "      <th>year_user_reg</th>\n",
       "      <th>month_user_reg</th>\n",
       "      <th>day_user_reg</th>\n",
       "      <th>unix_user_reg</th>\n",
       "      <th>a1</th>\n",
       "      <th>a2</th>\n",
       "      <th>a3</th>\n",
       "      <th>comment_num</th>\n",
       "      <th>has_bad_comment</th>\n",
       "      <th>bad_comment_rate</th>\n",
       "      <th>week_comment</th>\n",
       "      <th>unix_comment</th>\n",
       "      <th>browse</th>\n",
       "      <th>add_cart</th>\n",
       "      <th>rem_cart</th>\n",
       "      <th>purchase</th>\n",
       "      <th>follow</th>\n",
       "      <th>click</th>\n",
       "    </tr>\n",
       "  </thead>\n",
       "  <tbody>\n",
       "    <tr>\n",
       "      <th>283617</th>\n",
       "      <td>209665</td>\n",
       "      <td>15168</td>\n",
       "      <td>0</td>\n",
       "      <td>6</td>\n",
       "      <td>6</td>\n",
       "      <td>78</td>\n",
       "      <td>2016</td>\n",
       "      <td>2</td>\n",
       "      <td>2</td>\n",
       "      <td>5</td>\n",
       "      <td>0</td>\n",
       "      <td>1454371200</td>\n",
       "      <td>2</td>\n",
       "      <td>0</td>\n",
       "      <td>5</td>\n",
       "      <td>2008</td>\n",
       "      <td>11</td>\n",
       "      <td>27</td>\n",
       "      <td>1227744000</td>\n",
       "      <td>-1</td>\n",
       "      <td>-1</td>\n",
       "      <td>-1</td>\n",
       "      <td>0</td>\n",
       "      <td>0</td>\n",
       "      <td>0.0</td>\n",
       "      <td>0</td>\n",
       "      <td>0</td>\n",
       "      <td>0</td>\n",
       "      <td>0</td>\n",
       "      <td>0</td>\n",
       "      <td>0</td>\n",
       "      <td>0</td>\n",
       "      <td>1</td>\n",
       "    </tr>\n",
       "    <tr>\n",
       "      <th>283618</th>\n",
       "      <td>239179</td>\n",
       "      <td>36638</td>\n",
       "      <td>-1</td>\n",
       "      <td>2</td>\n",
       "      <td>5</td>\n",
       "      <td>479</td>\n",
       "      <td>2016</td>\n",
       "      <td>2</td>\n",
       "      <td>2</td>\n",
       "      <td>5</td>\n",
       "      <td>0</td>\n",
       "      <td>1454371200</td>\n",
       "      <td>1</td>\n",
       "      <td>0</td>\n",
       "      <td>5</td>\n",
       "      <td>2011</td>\n",
       "      <td>11</td>\n",
       "      <td>6</td>\n",
       "      <td>1320537600</td>\n",
       "      <td>-1</td>\n",
       "      <td>-1</td>\n",
       "      <td>-1</td>\n",
       "      <td>0</td>\n",
       "      <td>0</td>\n",
       "      <td>0.0</td>\n",
       "      <td>0</td>\n",
       "      <td>0</td>\n",
       "      <td>0</td>\n",
       "      <td>1</td>\n",
       "      <td>0</td>\n",
       "      <td>0</td>\n",
       "      <td>0</td>\n",
       "      <td>0</td>\n",
       "    </tr>\n",
       "    <tr>\n",
       "      <th>283619</th>\n",
       "      <td>288741</td>\n",
       "      <td>31662</td>\n",
       "      <td>21</td>\n",
       "      <td>6</td>\n",
       "      <td>8</td>\n",
       "      <td>545</td>\n",
       "      <td>2016</td>\n",
       "      <td>2</td>\n",
       "      <td>2</td>\n",
       "      <td>5</td>\n",
       "      <td>0</td>\n",
       "      <td>1454371200</td>\n",
       "      <td>2</td>\n",
       "      <td>1</td>\n",
       "      <td>4</td>\n",
       "      <td>2015</td>\n",
       "      <td>8</td>\n",
       "      <td>30</td>\n",
       "      <td>1440892800</td>\n",
       "      <td>1</td>\n",
       "      <td>1</td>\n",
       "      <td>1</td>\n",
       "      <td>0</td>\n",
       "      <td>0</td>\n",
       "      <td>0.0</td>\n",
       "      <td>0</td>\n",
       "      <td>0</td>\n",
       "      <td>0</td>\n",
       "      <td>0</td>\n",
       "      <td>0</td>\n",
       "      <td>0</td>\n",
       "      <td>0</td>\n",
       "      <td>1</td>\n",
       "    </tr>\n",
       "    <tr>\n",
       "      <th>283620</th>\n",
       "      <td>209665</td>\n",
       "      <td>15168</td>\n",
       "      <td>-1</td>\n",
       "      <td>1</td>\n",
       "      <td>6</td>\n",
       "      <td>78</td>\n",
       "      <td>2016</td>\n",
       "      <td>2</td>\n",
       "      <td>2</td>\n",
       "      <td>5</td>\n",
       "      <td>0</td>\n",
       "      <td>1454371200</td>\n",
       "      <td>2</td>\n",
       "      <td>0</td>\n",
       "      <td>5</td>\n",
       "      <td>2008</td>\n",
       "      <td>11</td>\n",
       "      <td>27</td>\n",
       "      <td>1227744000</td>\n",
       "      <td>-1</td>\n",
       "      <td>-1</td>\n",
       "      <td>-1</td>\n",
       "      <td>0</td>\n",
       "      <td>0</td>\n",
       "      <td>0.0</td>\n",
       "      <td>0</td>\n",
       "      <td>0</td>\n",
       "      <td>1</td>\n",
       "      <td>0</td>\n",
       "      <td>0</td>\n",
       "      <td>0</td>\n",
       "      <td>0</td>\n",
       "      <td>0</td>\n",
       "    </tr>\n",
       "    <tr>\n",
       "      <th>283621</th>\n",
       "      <td>267945</td>\n",
       "      <td>117882</td>\n",
       "      <td>-1</td>\n",
       "      <td>1</td>\n",
       "      <td>4</td>\n",
       "      <td>519</td>\n",
       "      <td>2016</td>\n",
       "      <td>2</td>\n",
       "      <td>2</td>\n",
       "      <td>5</td>\n",
       "      <td>0</td>\n",
       "      <td>1454371201</td>\n",
       "      <td>2</td>\n",
       "      <td>2</td>\n",
       "      <td>4</td>\n",
       "      <td>2012</td>\n",
       "      <td>7</td>\n",
       "      <td>6</td>\n",
       "      <td>1341532800</td>\n",
       "      <td>-1</td>\n",
       "      <td>-1</td>\n",
       "      <td>-1</td>\n",
       "      <td>0</td>\n",
       "      <td>0</td>\n",
       "      <td>0.0</td>\n",
       "      <td>0</td>\n",
       "      <td>0</td>\n",
       "      <td>1</td>\n",
       "      <td>0</td>\n",
       "      <td>0</td>\n",
       "      <td>0</td>\n",
       "      <td>0</td>\n",
       "      <td>0</td>\n",
       "    </tr>\n",
       "  </tbody>\n",
       "</table>\n",
       "</div>"
      ],
      "text/plain": [
       "        user_id  sku_id  model_id  type  cate  brand  year  month  day  \\\n",
       "283617   209665   15168         0     6     6     78  2016      2    2   \n",
       "283618   239179   36638        -1     2     5    479  2016      2    2   \n",
       "283619   288741   31662        21     6     8    545  2016      2    2   \n",
       "283620   209665   15168        -1     1     6     78  2016      2    2   \n",
       "283621   267945  117882        -1     1     4    519  2016      2    2   \n",
       "\n",
       "        week_action  hour  unix_action  age  sex  user_lv_cd  year_user_reg  \\\n",
       "283617            5     0   1454371200    2    0           5           2008   \n",
       "283618            5     0   1454371200    1    0           5           2011   \n",
       "283619            5     0   1454371200    2    1           4           2015   \n",
       "283620            5     0   1454371200    2    0           5           2008   \n",
       "283621            5     0   1454371201    2    2           4           2012   \n",
       "\n",
       "        month_user_reg  day_user_reg  unix_user_reg  a1  a2  a3  comment_num  \\\n",
       "283617              11            27     1227744000  -1  -1  -1            0   \n",
       "283618              11             6     1320537600  -1  -1  -1            0   \n",
       "283619               8            30     1440892800   1   1   1            0   \n",
       "283620              11            27     1227744000  -1  -1  -1            0   \n",
       "283621               7             6     1341532800  -1  -1  -1            0   \n",
       "\n",
       "        has_bad_comment  bad_comment_rate  week_comment  unix_comment  browse  \\\n",
       "283617                0               0.0             0             0       0   \n",
       "283618                0               0.0             0             0       0   \n",
       "283619                0               0.0             0             0       0   \n",
       "283620                0               0.0             0             0       1   \n",
       "283621                0               0.0             0             0       1   \n",
       "\n",
       "        add_cart  rem_cart  purchase  follow  click  \n",
       "283617         0         0         0       0      1  \n",
       "283618         1         0         0       0      0  \n",
       "283619         0         0         0       0      1  \n",
       "283620         0         0         0       0      0  \n",
       "283621         0         0         0       0      0  "
      ]
     },
     "execution_count": 4,
     "metadata": {},
     "output_type": "execute_result"
    }
   ],
   "source": [
    "def encode_types(type_series):\n",
    "    dummies = pd.get_dummies(data=type_series)\n",
    "    dummies.columns = ['browse', 'add_cart', 'rem_cart', 'purchase', 'follow', 'click']\n",
    "    return dummies\n",
    "\n",
    "types = encode_types(train.type)\n",
    "train[types.columns] = types\n",
    "train.head()"
   ]
  },
  {
   "cell_type": "code",
   "execution_count": 5,
   "metadata": {},
   "outputs": [],
   "source": [
    "used_cols = ['user_id', 'sku_id', 'unix_action', 'month', 'day', 'purchase']\n",
    "purchase = train[train.purchase == 1][used_cols].drop_duplicates()"
   ]
  },
  {
   "cell_type": "markdown",
   "metadata": {},
   "source": [
    "### one day purchase user number: 12217, ratio: 0.34"
   ]
  },
  {
   "cell_type": "code",
   "execution_count": 6,
   "metadata": {},
   "outputs": [],
   "source": [
    "first_sku_browse = train[used_cols][train.browse == 1].groupby(['user_id', 'sku_id']).min().reset_index()"
   ]
  },
  {
   "cell_type": "code",
   "execution_count": 7,
   "metadata": {},
   "outputs": [],
   "source": [
    "browse_and_purchase_same_day = first_sku_browse.merge(purchase, how='inner', on=['user_id', 'sku_id', 'month', 'day'])"
   ]
  },
  {
   "cell_type": "code",
   "execution_count": null,
   "metadata": {},
   "outputs": [],
   "source": [
    "ratio = len(browse_and_purchase_same_day) / len(purchase)\n",
    "print('Same day purchase ratio = {:.2f} == {}/{}'.format(ratio, len(browse_and_purchase_same_day), len(purchase)))"
   ]
  },
  {
   "cell_type": "markdown",
   "metadata": {},
   "source": [
    "### 24hr purchase user number: 18226, ratio: 0.52"
   ]
  },
  {
   "cell_type": "code",
   "execution_count": 11,
   "metadata": {},
   "outputs": [],
   "source": [
    "def get_unix_diff_one_day(df, time_start, time_end):\n",
    "    mask = (df[time_end] - df[time_start]) < 60*60*24\n",
    "    return df[mask]\n",
    "\n",
    "browse_and_purchase_merge = first_sku_browse.merge(purchase, how='inner', on=['user_id', 'sku_id'], suffixes=['_b', '_p'])\n",
    "browse_and_purchase_merge_in_one_day = get_unix_diff_one_day(browse_and_purchase_merge, 'unix_action_b', 'unix_action_p')"
   ]
  },
  {
   "cell_type": "code",
   "execution_count": null,
   "metadata": {},
   "outputs": [],
   "source": [
    "# 這裡的 browse_and_purchase_merge (35166) 比 purchase (36038) 還少，資料有問題？"
   ]
  },
  {
   "cell_type": "markdown",
   "metadata": {},
   "source": [
    "### first browse to purchase decision interval"
   ]
  },
  {
   "cell_type": "code",
   "execution_count": 12,
   "metadata": {},
   "outputs": [
    {
     "data": {
      "text/plain": [
       "count                     34237\n",
       "mean     5 days 08:16:01.479364\n",
       "std      9 days 04:09:17.674534\n",
       "min             0 days 00:00:01\n",
       "25%             0 days 00:37:21\n",
       "50%             0 days 23:27:24\n",
       "75%             6 days 07:56:59\n",
       "max            59 days 00:57:12\n",
       "Name: unix_diff, dtype: object"
      ]
     },
     "execution_count": 12,
     "metadata": {},
     "output_type": "execute_result"
    }
   ],
   "source": [
    "browse_and_purchase_merge['unix_diff'] = browse_and_purchase_merge.unix_action_p - browse_and_purchase_merge.unix_action_b\n",
    "browse_and_purchase_merge = browse_and_purchase_merge[browse_and_purchase_merge.unix_diff >= 0]\n",
    "decision_interval = pd.to_timedelta(browse_and_purchase_merge['unix_diff'], unit='s')\n",
    "decision_interval.describe()"
   ]
  },
  {
   "cell_type": "code",
   "execution_count": 33,
   "metadata": {},
   "outputs": [
    {
     "data": {
      "image/png": "[encoded data removed]",
      "text/plain": [
       "<matplotlib.figure.Figure at 0x7f7fc33b0780>"
      ]
     },
     "metadata": {},
     "output_type": "display_data"
    }
   ],
   "source": [
    "(decision_interval / pd.Timedelta(minutes=1)).hist(bins=range(50, 120, 1))\n",
    "plt.xlabel('Time between decisions (min)')\n",
    "plt.ylabel('# of decisions');"
   ]
  },
  {
   "cell_type": "code",
   "execution_count": 34,
   "metadata": {},
   "outputs": [
    {
     "data": {
      "image/png": "[encoded data removed]",
      "text/plain": [
       "<matplotlib.figure.Figure at 0x7f7fc324df60>"
      ]
     },
     "metadata": {},
     "output_type": "display_data"
    }
   ],
   "source": [
    "(decision_interval / pd.Timedelta(hours=1)).hist(bins=range(50, 120, 1))\n",
    "plt.xlabel('Time between decisions (hour)')\n",
    "plt.ylabel('# of decisions');"
   ]
  },
  {
   "cell_type": "code",
   "execution_count": 49,
   "metadata": {},
   "outputs": [],
   "source": [
    "decision_hour_dist = decision_interval / pd.Timedelta(hours=1)"
   ]
  },
  {
   "cell_type": "code",
   "execution_count": 44,
   "metadata": {},
   "outputs": [
    {
     "name": "stderr",
     "output_type": "stream",
     "text": [
      "/usr/local/lib/python3.5/dist-packages/scipy/stats/stats.py:1713: FutureWarning: Using a non-tuple sequence for multidimensional indexing is deprecated; use `arr[tuple(seq)]` instead of `arr[seq]`. In the future this will be interpreted as an array index, `arr[np.array(seq)]`, which will result either in an error or a different result.\n",
      "  return np.add.reduce(sorted[indexer] * weights, axis=axis) / sumval\n"
     ]
    },
    {
     "data": {
      "image/png": "[encoded data removed]",
      "text/plain": [
       "<matplotlib.figure.Figure at 0x7f7fc2e26b00>"
      ]
     },
     "metadata": {},
     "output_type": "display_data"
    }
   ],
   "source": [
    "plt.figure(figsize=(10, 7))\n",
    "ax = sns.distplot(decision_hour_dist, kde=False)"
   ]
  },
  {
   "cell_type": "code",
   "execution_count": 51,
   "metadata": {},
   "outputs": [
    {
     "data": {
      "image/png": "[encoded data removed]",
      "text/plain": [
       "<matplotlib.figure.Figure at 0x7f7fc2dbba58>"
      ]
     },
     "metadata": {},
     "output_type": "display_data"
    }
   ],
   "source": [
    "plt.figure(figsize=(10, 7))\n",
    "ax = sns.boxplot(decision_hour_dist)"
   ]
  },
  {
   "cell_type": "code",
   "execution_count": 19,
   "metadata": {},
   "outputs": [
    {
     "data": {
      "text/plain": [
       "Timedelta('1 days 00:00:02.885299')"
      ]
     },
     "execution_count": 19,
     "metadata": {},
     "output_type": "execute_result"
    }
   ],
   "source": [
    "# find 1 day delta quantile\n",
    "q = decision_interval.sort_values().searchsorted(pd.Timedelta(value=1, unit='D'))[0]/len(decision_interval)\n",
    "decision_interval.quantile(q)"
   ]
  },
  {
   "cell_type": "code",
   "execution_count": 1,
   "metadata": {},
   "outputs": [],
   "source": [
    "# 購物車轉換率"
   ]
  },
  {
   "cell_type": "markdown",
   "metadata": {},
   "source": [
    "# 商品特徵 (sku/a1/a2/a3/cate/brand) vs 購買行為"
   ]
  },
  {
   "cell_type": "code",
   "execution_count": 131,
   "metadata": {},
   "outputs": [
    {
     "data": {
      "text/plain": [
       "0.1486590038314176"
      ]
     },
     "execution_count": 131,
     "metadata": {},
     "output_type": "execute_result"
    }
   ],
   "source": [
    "df[df.purchase == 1].sku_id.nunique() / df.sku_id.nunique()"
   ]
  },
  {
   "cell_type": "code",
   "execution_count": 137,
   "metadata": {},
   "outputs": [
    {
     "data": {
      "text/plain": [
       "0.028526645768025077"
      ]
     },
     "execution_count": 137,
     "metadata": {},
     "output_type": "execute_result"
    }
   ],
   "source": [
    "df[(df.purchase == 1) & (df.a1 != -1)].sku_id.nunique() / df.sku_id.nunique()"
   ]
  },
  {
   "cell_type": "code",
   "execution_count": 51,
   "metadata": {},
   "outputs": [],
   "source": [
    "product = pd.read_csv(raw_path.joinpath('JData_Product.csv'))"
   ]
  },
  {
   "cell_type": "code",
   "execution_count": 54,
   "metadata": {},
   "outputs": [
    {
     "data": {
      "text/plain": [
       "array([8])"
      ]
     },
     "execution_count": 54,
     "metadata": {},
     "output_type": "execute_result"
    }
   ],
   "source": [
    "product.cate.unique()"
   ]
  },
  {
   "cell_type": "markdown",
   "metadata": {},
   "source": [
    "# 商品評價 (num/has_bad/bad_rate) vs 購買行為"
   ]
  },
  {
   "cell_type": "markdown",
   "metadata": {},
   "source": [
    "# 用戶"
   ]
  },
  {
   "cell_type": "code",
   "execution_count": null,
   "metadata": {},
   "outputs": [],
   "source": [
    "3.4 Categorical features\n",
    "3.4.1 Visualizaing most frequents values in training data\n",
    "3.4.2 Case when App was downloaded i.e is_attributed == 1\n",
    "3.4.3 Situation in test data"
   ]
  }
 ],
 "metadata": {
  "kernelspec": {
   "display_name": "Python 3",
   "language": "python",
   "name": "python3"
  },
  "language_info": {
   "codemirror_mode": {
    "name": "ipython",
    "version": 3
   },
   "file_extension": ".py",
   "mimetype": "text/x-python",
   "name": "python",
   "nbconvert_exporter": "python",
   "pygments_lexer": "ipython3",
   "version": "3.7.0"
  }
 },
 "nbformat": 4,
 "nbformat_minor": 2
}
