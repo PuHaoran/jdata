{
 "cells": [
  {
   "cell_type": "code",
   "execution_count": 2,
   "metadata": {},
   "outputs": [],
   "source": [
    "from pathlib import Path\n",
    "from pprint import pprint\n",
    "import numpy as np\n",
    "import pandas as pd\n",
    "\n",
    "data_path = Path('.').resolve().parents[0].joinpath(\"data\")\n",
    "raw_path = data_path.joinpath(\"raw\")\n",
    "interim_path = data_path.joinpath(\"interim\")"
   ]
  },
  {
   "cell_type": "code",
   "execution_count": 4,
   "metadata": {},
   "outputs": [],
   "source": [
    "def show_nan(df, detail=True):\n",
    "    print('missing value columns:')\n",
    "    print(df.isnull().sum())\n",
    "\n",
    "    if detail:\n",
    "        nan_rows = df[df.isnull().any(axis=1)]\n",
    "        if nan_rows.size > 0:\n",
    "            print(nan_rows.head())\n",
    "\n",
    "def mem_usage(pd_obj):\n",
    "    if isinstance(pd_obj, pd.DataFrame):\n",
    "        usage_bytes = pd_obj.memory_usage(deep=True).sum()\n",
    "    else:\n",
    "        usage_bytes = pd_obj.memory_usage(deep=True)\n",
    "    usage_mb = usage_bytes / 1024 ** 2\n",
    "    return \"{:03.2f} MB\".format(usage_mb)\n",
    "\n",
    "\n",
    "def compare_mem_usage(b, a):\n",
    "    print('{0} -> {1}'.format(mem_usage(action_int), mem_usage(converted_int)))\n",
    "\n",
    "    compare = pd.concat([b.dtypes, a.dtypes], axis=1)\n",
    "    compare.columns = ['before', 'after']\n",
    "    print(compare.apply(pd.Series.value_counts))\n",
    "\n",
    "    \n",
    "def get_column_types(dtypes):\n",
    "    dtypes_col = dtypes.index\n",
    "    dtypes_type = [i.name for i in dtypes.values]\n",
    "    return dict(zip(dtypes_col, dtypes_type))\n",
    "\n",
    "\n",
    "def show_dtypes(df):\n",
    "    dt_dtpyes = df.select_dtypes(include=[np.datetime64, 'datetime', 'datetime64']).dtypes\n",
    "    print('datetime_cols:')\n",
    "    print(get_column_types(dt_dtpyes))\n",
    "    g_dtypes = df.drop(dt_dtpyes.index, axis=1).dtypes\n",
    "    print('other_cols:')\n",
    "    print(get_column_types(g_dtypes))\n",
    "\n",
    "\n",
    "def optimize_numeric_values(df):\n",
    "    optimized_df = df.head(0)\n",
    "    \n",
    "    df_int = df.select_dtypes(include='int')\n",
    "    converted_int = df_int.apply(pd.to_numeric, downcast='integer')\n",
    "    \n",
    "    df_float = df.select_dtypes(include='float')\n",
    "    converted_float = df_float.apply(pd.to_numeric, downcast='float')\n",
    "\n",
    "    optimized_cols = converted_int.columns.tolist() + converted_float.columns.tolist()\n",
    "    not_optimized_cols = df.columns[~df.columns.isin(optimized_cols)]\n",
    "    \n",
    "    # merge\n",
    "    optimized_df[df_int.columns] = converted_int\n",
    "    optimized_df[df_float.columns] = converted_float\n",
    "    optimized_df[not_optimized_cols] = df[not_optimized_cols]\n",
    "    \n",
    "    return optimized_df"
   ]
  },
  {
   "cell_type": "markdown",
   "metadata": {},
   "source": [
    "# Find the optimized data types"
   ]
  },
  {
   "cell_type": "markdown",
   "metadata": {},
   "source": [
    "## Action"
   ]
  },
  {
   "cell_type": "markdown",
   "metadata": {},
   "source": [
    "### optimize numeric columns memory usage: 5.8 GB -> 4.5 GB"
   ]
  },
  {
   "cell_type": "code",
   "execution_count": 223,
   "metadata": {},
   "outputs": [
    {
     "name": "stdout",
     "output_type": "stream",
     "text": [
      "CPU times: user 49.4 s, sys: 16.2 s, total: 1min 5s\n",
      "Wall time: 1min 12s\n"
     ]
    }
   ],
   "source": [
    "%time action = pd.read_csv('{}/All_Action.csv'.format(interim_path))"
   ]
  },
  {
   "cell_type": "code",
   "execution_count": 224,
   "metadata": {},
   "outputs": [
    {
     "name": "stdout",
     "output_type": "stream",
     "text": [
      "<class 'pandas.core.frame.DataFrame'>\n",
      "RangeIndex: 50601736 entries, 0 to 50601735\n",
      "Data columns (total 7 columns):\n",
      "user_id     50601736 non-null float64\n",
      "sku_id      50601736 non-null int64\n",
      "time        50601736 non-null object\n",
      "model_id    29945840 non-null float64\n",
      "type        50601736 non-null int64\n",
      "cate        50601736 non-null int64\n",
      "brand       50601736 non-null int64\n",
      "dtypes: float64(2), int64(4), object(1)\n",
      "memory usage: 5.8 GB\n"
     ]
    }
   ],
   "source": [
    "action.info(null_counts=True, memory_usage='deep')"
   ]
  },
  {
   "cell_type": "code",
   "execution_count": 225,
   "metadata": {},
   "outputs": [
    {
     "name": "stdout",
     "output_type": "stream",
     "text": [
      "Average memory usage for float columns: 257.37 MB\n",
      "Average memory usage for int columns: 308.85 MB\n",
      "Average memory usage for object columns: 1833.79 MB\n"
     ]
    }
   ],
   "source": [
    "for dtype in ['float', 'int', 'object']:\n",
    "    selected_dtype = action.select_dtypes(include=[dtype])\n",
    "    mean_usage_b = selected_dtype.memory_usage(deep=True).mean()\n",
    "    mean_usage_mb = mean_usage_b / 1024 ** 2\n",
    "    print(\"Average memory usage for {} columns: {:03.2f} MB\".format(dtype, mean_usage_mb))"
   ]
  },
  {
   "cell_type": "code",
   "execution_count": null,
   "metadata": {},
   "outputs": [],
   "source": [
    "# handle null values\n",
    "action.model_id = action.model_id.fillna(-1).astype(int)"
   ]
  },
  {
   "cell_type": "code",
   "execution_count": 226,
   "metadata": {},
   "outputs": [
    {
     "name": "stdout",
     "output_type": "stream",
     "text": [
      "CPU times: user 8.8 s, sys: 8.2 s, total: 17 s\n",
      "Wall time: 20.7 s\n"
     ]
    }
   ],
   "source": [
    "action_int = action.select_dtypes(include='int')\n",
    "%time converted_int = action_int.apply(pd.to_numeric, downcast='signed')"
   ]
  },
  {
   "cell_type": "code",
   "execution_count": 227,
   "metadata": {},
   "outputs": [
    {
     "name": "stdout",
     "output_type": "stream",
     "text": [
      "1544.24 MB -> 386.06 MB\n",
      "       before  after\n",
      "int8      NaN    2.0\n",
      "int16     NaN    1.0\n",
      "int32     NaN    1.0\n",
      "int64     4.0    NaN\n"
     ]
    }
   ],
   "source": [
    "compare_mem_usage(action_int, converted_int)"
   ]
  },
  {
   "cell_type": "code",
   "execution_count": 228,
   "metadata": {},
   "outputs": [
    {
     "name": "stdout",
     "output_type": "stream",
     "text": [
      "CPU times: user 4.44 s, sys: 3.77 s, total: 8.21 s\n",
      "Wall time: 9.33 s\n"
     ]
    }
   ],
   "source": [
    "action_float = action.select_dtypes(include='float')\n",
    "%time converted_float = action_float.apply(pd.to_numeric, downcast='signed')"
   ]
  },
  {
   "cell_type": "code",
   "execution_count": 229,
   "metadata": {},
   "outputs": [
    {
     "name": "stdout",
     "output_type": "stream",
     "text": [
      "1544.24 MB -> 386.06 MB\n",
      "         before  after\n",
      "int32       NaN      1\n",
      "float64     2.0      1\n"
     ]
    }
   ],
   "source": [
    "compare_mem_usage(action_float, converted_float)"
   ]
  },
  {
   "cell_type": "code",
   "execution_count": 230,
   "metadata": {},
   "outputs": [],
   "source": [
    "# create new dataframe with the same schema\n",
    "optimized_action = action.head(0)\n",
    "optimized_action[converted_int.columns] = converted_int\n",
    "optimized_action[converted_float.columns] = converted_float"
   ]
  },
  {
   "cell_type": "code",
   "execution_count": 231,
   "metadata": {},
   "outputs": [],
   "source": [
    "optimized_action['time'] = action.time"
   ]
  },
  {
   "cell_type": "code",
   "execution_count": 232,
   "metadata": {},
   "outputs": [
    {
     "name": "stdout",
     "output_type": "stream",
     "text": [
      "1544.24 MB -> 386.06 MB\n",
      "         before  after\n",
      "int8        NaN    2.0\n",
      "int16       NaN    1.0\n",
      "int32       NaN    2.0\n",
      "int64       4.0    NaN\n",
      "float64     2.0    1.0\n",
      "object      1.0    1.0\n"
     ]
    }
   ],
   "source": [
    "compare_mem_usage(action, optimized_action)"
   ]
  },
  {
   "cell_type": "code",
   "execution_count": 233,
   "metadata": {},
   "outputs": [
    {
     "name": "stdout",
     "output_type": "stream",
     "text": [
      "<class 'pandas.core.frame.DataFrame'>\n",
      "RangeIndex: 50601736 entries, 0 to 50601735\n",
      "Data columns (total 7 columns):\n",
      "user_id     50601736 non-null int32\n",
      "sku_id      50601736 non-null int32\n",
      "time        50601736 non-null object\n",
      "model_id    29945840 non-null float64\n",
      "type        50601736 non-null int8\n",
      "cate        50601736 non-null int8\n",
      "brand       50601736 non-null int16\n",
      "dtypes: float64(1), int16(1), int32(2), int8(2), object(1)\n",
      "memory usage: 4.5 GB\n"
     ]
    }
   ],
   "source": [
    "optimized_action.info(null_counts=True, memory_usage='deep')"
   ]
  },
  {
   "cell_type": "markdown",
   "metadata": {},
   "source": [
    "### Optimize Time String (Object) to DateTimeIndex: 4.5 GB -> 1.0 GB"
   ]
  },
  {
   "cell_type": "code",
   "execution_count": 234,
   "metadata": {},
   "outputs": [
    {
     "data": {
      "text/plain": [
       "'3667.58 MB'"
      ]
     },
     "execution_count": 234,
     "metadata": {},
     "output_type": "execute_result"
    }
   ],
   "source": [
    "mem_usage(optimized_action.time)"
   ]
  },
  {
   "cell_type": "code",
   "execution_count": 235,
   "metadata": {},
   "outputs": [
    {
     "data": {
      "text/plain": [
       "'386.06 MB'"
      ]
     },
     "execution_count": 235,
     "metadata": {},
     "output_type": "execute_result"
    }
   ],
   "source": [
    "mem_usage(pd.to_datetime(optimized_action.time, format='%Y-%m-%d %H:%M:%S'))"
   ]
  },
  {
   "cell_type": "code",
   "execution_count": 236,
   "metadata": {},
   "outputs": [],
   "source": [
    "optimized_action.time = pd.to_datetime(optimized_action.time, format='%Y-%m-%d %H:%M:%S')"
   ]
  },
  {
   "cell_type": "code",
   "execution_count": 237,
   "metadata": {},
   "outputs": [],
   "source": [
    "dtypes = optimized_action.drop('time', axis=1).dtypes\n",
    "\n",
    "dtypes_col = dtypes.index\n",
    "dtypes_type = [i.name for i in dtypes.values]\n",
    "\n",
    "column_types = dict(zip(dtypes_col, dtypes_type))"
   ]
  },
  {
   "cell_type": "code",
   "execution_count": 238,
   "metadata": {},
   "outputs": [
    {
     "data": {
      "text/plain": [
       "{'user_id': 'int32',\n",
       " 'sku_id': 'int32',\n",
       " 'model_id': 'float64',\n",
       " 'type': 'int8',\n",
       " 'cate': 'int8',\n",
       " 'brand': 'int16'}"
      ]
     },
     "execution_count": 238,
     "metadata": {},
     "output_type": "execute_result"
    }
   ],
   "source": [
    "column_types"
   ]
  },
  {
   "cell_type": "code",
   "execution_count": 47,
   "metadata": {},
   "outputs": [
    {
     "name": "stdout",
     "output_type": "stream",
     "text": [
      "CPU times: user 1min 17s, sys: 10.8 s, total: 1min 28s\n",
      "Wall time: 1min 35s\n"
     ]
    }
   ],
   "source": [
    "column_types = {\n",
    "    'user_id': 'int32',\n",
    "    'sku_id': 'int32',\n",
    "    'model_id': 'float64',\n",
    "    'type': 'int8',\n",
    "    'cate': 'int8',\n",
    "    'brand': 'int16'\n",
    "}\n",
    "\n",
    "%time optimized_action = pd.read_csv('{}/All_Action.csv'.format(interim_path), dtype=column_types, parse_dates=['time'], infer_datetime_format=True)"
   ]
  },
  {
   "cell_type": "code",
   "execution_count": 244,
   "metadata": {},
   "outputs": [],
   "source": [
    "optimized_action.model_id.fillna(-1, inplace=True)"
   ]
  },
  {
   "cell_type": "code",
   "execution_count": 245,
   "metadata": {},
   "outputs": [],
   "source": [
    "optimized_action.model_id = pd.to_numeric(optimized_action.model_id.astype(int), downcast='integer')"
   ]
  },
  {
   "cell_type": "code",
   "execution_count": 246,
   "metadata": {},
   "outputs": [
    {
     "name": "stdout",
     "output_type": "stream",
     "text": [
      "<class 'pandas.core.frame.DataFrame'>\n",
      "RangeIndex: 50601736 entries, 0 to 50601735\n",
      "Data columns (total 7 columns):\n",
      "user_id     int32\n",
      "sku_id      int32\n",
      "time        datetime64[ns]\n",
      "model_id    int16\n",
      "type        int8\n",
      "cate        int8\n",
      "brand       int16\n",
      "dtypes: datetime64[ns](1), int16(2), int32(2), int8(2)\n",
      "memory usage: 1.0 GB\n"
     ]
    }
   ],
   "source": [
    "optimized_action.info()"
   ]
  },
  {
   "cell_type": "code",
   "execution_count": 247,
   "metadata": {},
   "outputs": [
    {
     "name": "stdout",
     "output_type": "stream",
     "text": [
      "CPU times: user 8min 49s, sys: 8.65 s, total: 8min 58s\n",
      "Wall time: 9min 31s\n"
     ]
    }
   ],
   "source": [
    "%time optimized_action.to_csv('{}/All_Action.csv'.format(interim_path), index=False)"
   ]
  },
  {
   "cell_type": "markdown",
   "metadata": {},
   "source": [
    "## Action - Remove duplicated rows"
   ]
  },
  {
   "cell_type": "code",
   "execution_count": 5,
   "metadata": {},
   "outputs": [
    {
     "name": "stdout",
     "output_type": "stream",
     "text": [
      "CPU times: user 1min 23s, sys: 19.3 s, total: 1min 42s\n",
      "Wall time: 1min 58s\n"
     ]
    }
   ],
   "source": [
    "%time action = pd.read_csv('{}/All_Action.csv'.format(interim_path), parse_dates=['time'], infer_datetime_format=True)"
   ]
  },
  {
   "cell_type": "code",
   "execution_count": 6,
   "metadata": {},
   "outputs": [
    {
     "data": {
      "text/html": [
       "<div>\n",
       "<style scoped>\n",
       "    .dataframe tbody tr th:only-of-type {\n",
       "        vertical-align: middle;\n",
       "    }\n",
       "\n",
       "    .dataframe tbody tr th {\n",
       "        vertical-align: top;\n",
       "    }\n",
       "\n",
       "    .dataframe thead th {\n",
       "        text-align: right;\n",
       "    }\n",
       "</style>\n",
       "<table border=\"1\" class=\"dataframe\">\n",
       "  <thead>\n",
       "    <tr style=\"text-align: right;\">\n",
       "      <th></th>\n",
       "      <th>user_id</th>\n",
       "      <th>sku_id</th>\n",
       "      <th>time</th>\n",
       "      <th>model_id</th>\n",
       "      <th>type</th>\n",
       "      <th>cate</th>\n",
       "      <th>brand</th>\n",
       "    </tr>\n",
       "  </thead>\n",
       "  <tbody>\n",
       "    <tr>\n",
       "      <th>0</th>\n",
       "      <td>266079</td>\n",
       "      <td>138778</td>\n",
       "      <td>2016-01-31 23:59:02</td>\n",
       "      <td>-1</td>\n",
       "      <td>1</td>\n",
       "      <td>8</td>\n",
       "      <td>403</td>\n",
       "    </tr>\n",
       "    <tr>\n",
       "      <th>1</th>\n",
       "      <td>266079</td>\n",
       "      <td>138778</td>\n",
       "      <td>2016-01-31 23:59:03</td>\n",
       "      <td>0</td>\n",
       "      <td>6</td>\n",
       "      <td>8</td>\n",
       "      <td>403</td>\n",
       "    </tr>\n",
       "    <tr>\n",
       "      <th>2</th>\n",
       "      <td>200719</td>\n",
       "      <td>61226</td>\n",
       "      <td>2016-01-31 23:59:07</td>\n",
       "      <td>-1</td>\n",
       "      <td>1</td>\n",
       "      <td>8</td>\n",
       "      <td>30</td>\n",
       "    </tr>\n",
       "    <tr>\n",
       "      <th>3</th>\n",
       "      <td>200719</td>\n",
       "      <td>61226</td>\n",
       "      <td>2016-01-31 23:59:08</td>\n",
       "      <td>0</td>\n",
       "      <td>6</td>\n",
       "      <td>8</td>\n",
       "      <td>30</td>\n",
       "    </tr>\n",
       "    <tr>\n",
       "      <th>4</th>\n",
       "      <td>263587</td>\n",
       "      <td>72348</td>\n",
       "      <td>2016-01-31 23:59:08</td>\n",
       "      <td>-1</td>\n",
       "      <td>1</td>\n",
       "      <td>5</td>\n",
       "      <td>159</td>\n",
       "    </tr>\n",
       "  </tbody>\n",
       "</table>\n",
       "</div>"
      ],
      "text/plain": [
       "   user_id  sku_id                time  model_id  type  cate  brand\n",
       "0   266079  138778 2016-01-31 23:59:02        -1     1     8    403\n",
       "1   266079  138778 2016-01-31 23:59:03         0     6     8    403\n",
       "2   200719   61226 2016-01-31 23:59:07        -1     1     8     30\n",
       "3   200719   61226 2016-01-31 23:59:08         0     6     8     30\n",
       "4   263587   72348 2016-01-31 23:59:08        -1     1     5    159"
      ]
     },
     "execution_count": 6,
     "metadata": {},
     "output_type": "execute_result"
    }
   ],
   "source": [
    "action.head()"
   ]
  },
  {
   "cell_type": "code",
   "execution_count": null,
   "metadata": {},
   "outputs": [],
   "source": [
    "action.info()"
   ]
  },
  {
   "cell_type": "code",
   "execution_count": null,
   "metadata": {},
   "outputs": [],
   "source": [
    "action.model_id = action.model_id.fillna(-1).astype(int)"
   ]
  },
  {
   "cell_type": "code",
   "execution_count": 8,
   "metadata": {},
   "outputs": [
    {
     "data": {
      "text/plain": [
       "user_id     0\n",
       "sku_id      0\n",
       "time        0\n",
       "model_id    0\n",
       "type        0\n",
       "cate        0\n",
       "brand       0\n",
       "dtype: int64"
      ]
     },
     "execution_count": 8,
     "metadata": {},
     "output_type": "execute_result"
    }
   ],
   "source": [
    "action.isnull().sum()"
   ]
  },
  {
   "cell_type": "code",
   "execution_count": 9,
   "metadata": {},
   "outputs": [],
   "source": [
    "optimized_action = optimize_numeric_values(action)"
   ]
  },
  {
   "cell_type": "code",
   "execution_count": 15,
   "metadata": {},
   "outputs": [
    {
     "name": "stdout",
     "output_type": "stream",
     "text": [
      "<class 'pandas.core.frame.DataFrame'>\n",
      "RangeIndex: 50601736 entries, 0 to 50601735\n",
      "Data columns (total 7 columns):\n",
      "user_id     int32\n",
      "sku_id      int32\n",
      "time        datetime64[ns]\n",
      "model_id    int16\n",
      "type        int8\n",
      "cate        int8\n",
      "brand       int16\n",
      "dtypes: datetime64[ns](1), int16(2), int32(2), int8(2)\n",
      "memory usage: 1.0 GB\n"
     ]
    }
   ],
   "source": [
    "optimized_action.info()"
   ]
  },
  {
   "cell_type": "code",
   "execution_count": 10,
   "metadata": {},
   "outputs": [
    {
     "name": "stdout",
     "output_type": "stream",
     "text": [
      "datetime_cols:\n",
      "{'time': 'datetime64[ns]'}\n",
      "other_cols:\n",
      "{'user_id': 'int32', 'sku_id': 'int32', 'model_id': 'int16', 'type': 'int8', 'cate': 'int8', 'brand': 'int16'}\n"
     ]
    }
   ],
   "source": [
    "show_dtypes(optimized_action)"
   ]
  },
  {
   "cell_type": "code",
   "execution_count": 69,
   "metadata": {},
   "outputs": [
    {
     "name": "stdout",
     "output_type": "stream",
     "text": [
      "CPU times: user 1min 20s, sys: 10.6 s, total: 1min 31s\n",
      "Wall time: 1min 43s\n"
     ]
    }
   ],
   "source": [
    "column_types = {\n",
    "    'user_id': 'int32',\n",
    "    'sku_id': 'int32',\n",
    "    'model_id': 'int16',\n",
    "    'type': 'int8',\n",
    "    'cate': 'int8',\n",
    "    'brand': 'int16'\n",
    "}\n",
    "\n",
    "%time optimized_action = pd.read_csv('{}/All_Action.csv'.format(interim_path), dtype=column_types, parse_dates=['time'], infer_datetime_format=True)"
   ]
  },
  {
   "cell_type": "code",
   "execution_count": 12,
   "metadata": {},
   "outputs": [
    {
     "data": {
      "text/plain": [
       "13513841"
      ]
     },
     "execution_count": 12,
     "metadata": {},
     "output_type": "execute_result"
    }
   ],
   "source": [
    "# drop duplicated rows\n",
    "optimized_action.duplicated().sum()"
   ]
  },
  {
   "cell_type": "code",
   "execution_count": null,
   "metadata": {},
   "outputs": [],
   "source": [
    "optimized_action.head(10000)[optimized_action.head(10000).duplicated()].head(20)"
   ]
  },
  {
   "cell_type": "code",
   "execution_count": 13,
   "metadata": {},
   "outputs": [
    {
     "name": "stdout",
     "output_type": "stream",
     "text": [
      "CPU times: user 32.6 s, sys: 27.6 s, total: 1min\n",
      "Wall time: 1min 19s\n"
     ]
    }
   ],
   "source": [
    "%time dedup_optimized_action = optimized_action[~optimized_action.duplicated()]"
   ]
  },
  {
   "cell_type": "code",
   "execution_count": 14,
   "metadata": {},
   "outputs": [
    {
     "name": "stdout",
     "output_type": "stream",
     "text": [
      "<class 'pandas.core.frame.DataFrame'>\n",
      "Int64Index: 37087895 entries, 0 to 50601735\n",
      "Data columns (total 7 columns):\n",
      "user_id     int32\n",
      "sku_id      int32\n",
      "time        datetime64[ns]\n",
      "model_id    int16\n",
      "type        int8\n",
      "cate        int8\n",
      "brand       int16\n",
      "dtypes: datetime64[ns](1), int16(2), int32(2), int8(2)\n",
      "memory usage: 1.0 GB\n"
     ]
    }
   ],
   "source": [
    "dedup_optimized_action.info()"
   ]
  },
  {
   "cell_type": "code",
   "execution_count": 16,
   "metadata": {},
   "outputs": [
    {
     "data": {
      "text/plain": [
       "21"
      ]
     },
     "execution_count": 16,
     "metadata": {},
     "output_type": "execute_result"
    }
   ],
   "source": [
    "del optimized_action\n",
    "import gc\n",
    "gc.collect()"
   ]
  },
  {
   "cell_type": "code",
   "execution_count": 18,
   "metadata": {},
   "outputs": [
    {
     "name": "stdout",
     "output_type": "stream",
     "text": [
      "CPU times: user 6min 42s, sys: 8.42 s, total: 6min 50s\n",
      "Wall time: 7min 9s\n"
     ]
    }
   ],
   "source": [
    "%time dedup_optimized_action.to_csv('{}/Dedup_All_Action.csv'.format(interim_path), index=False)"
   ]
  },
  {
   "cell_type": "markdown",
   "metadata": {},
   "source": [
    "## User"
   ]
  },
  {
   "cell_type": "code",
   "execution_count": 74,
   "metadata": {},
   "outputs": [
    {
     "name": "stdout",
     "output_type": "stream",
     "text": [
      "CPU times: user 168 ms, sys: 25.1 ms, total: 193 ms\n",
      "Wall time: 208 ms\n"
     ]
    }
   ],
   "source": [
    "%time user = pd.read_csv('{}/JData_User.csv'.format(raw_path), encoding='gbk', parse_dates=['user_reg_tm'], infer_datetime_format=True)"
   ]
  },
  {
   "cell_type": "code",
   "execution_count": 75,
   "metadata": {},
   "outputs": [
    {
     "data": {
      "text/html": [
       "<div>\n",
       "<style scoped>\n",
       "    .dataframe tbody tr th:only-of-type {\n",
       "        vertical-align: middle;\n",
       "    }\n",
       "\n",
       "    .dataframe tbody tr th {\n",
       "        vertical-align: top;\n",
       "    }\n",
       "\n",
       "    .dataframe thead th {\n",
       "        text-align: right;\n",
       "    }\n",
       "</style>\n",
       "<table border=\"1\" class=\"dataframe\">\n",
       "  <thead>\n",
       "    <tr style=\"text-align: right;\">\n",
       "      <th></th>\n",
       "      <th>user_id</th>\n",
       "      <th>age</th>\n",
       "      <th>sex</th>\n",
       "      <th>user_lv_cd</th>\n",
       "      <th>user_reg_tm</th>\n",
       "    </tr>\n",
       "  </thead>\n",
       "  <tbody>\n",
       "    <tr>\n",
       "      <th>0</th>\n",
       "      <td>200001</td>\n",
       "      <td>56岁以上</td>\n",
       "      <td>2.0</td>\n",
       "      <td>5</td>\n",
       "      <td>2016-01-26</td>\n",
       "    </tr>\n",
       "    <tr>\n",
       "      <th>1</th>\n",
       "      <td>200002</td>\n",
       "      <td>-1</td>\n",
       "      <td>0.0</td>\n",
       "      <td>1</td>\n",
       "      <td>2016-01-26</td>\n",
       "    </tr>\n",
       "    <tr>\n",
       "      <th>2</th>\n",
       "      <td>200003</td>\n",
       "      <td>36-45岁</td>\n",
       "      <td>1.0</td>\n",
       "      <td>4</td>\n",
       "      <td>2016-01-26</td>\n",
       "    </tr>\n",
       "    <tr>\n",
       "      <th>3</th>\n",
       "      <td>200004</td>\n",
       "      <td>-1</td>\n",
       "      <td>2.0</td>\n",
       "      <td>1</td>\n",
       "      <td>2016-01-26</td>\n",
       "    </tr>\n",
       "    <tr>\n",
       "      <th>4</th>\n",
       "      <td>200005</td>\n",
       "      <td>16-25岁</td>\n",
       "      <td>0.0</td>\n",
       "      <td>4</td>\n",
       "      <td>2016-01-26</td>\n",
       "    </tr>\n",
       "  </tbody>\n",
       "</table>\n",
       "</div>"
      ],
      "text/plain": [
       "   user_id     age  sex  user_lv_cd user_reg_tm\n",
       "0   200001   56岁以上  2.0           5  2016-01-26\n",
       "1   200002      -1  0.0           1  2016-01-26\n",
       "2   200003  36-45岁  1.0           4  2016-01-26\n",
       "3   200004      -1  2.0           1  2016-01-26\n",
       "4   200005  16-25岁  0.0           4  2016-01-26"
      ]
     },
     "execution_count": 75,
     "metadata": {},
     "output_type": "execute_result"
    }
   ],
   "source": [
    "user.head()"
   ]
  },
  {
   "cell_type": "code",
   "execution_count": 76,
   "metadata": {},
   "outputs": [
    {
     "name": "stdout",
     "output_type": "stream",
     "text": [
      "<class 'pandas.core.frame.DataFrame'>\n",
      "RangeIndex: 105321 entries, 0 to 105320\n",
      "Data columns (total 5 columns):\n",
      "user_id        105321 non-null int64\n",
      "age            105318 non-null object\n",
      "sex            105318 non-null float64\n",
      "user_lv_cd     105321 non-null int64\n",
      "user_reg_tm    105318 non-null datetime64[ns]\n",
      "dtypes: datetime64[ns](1), float64(1), int64(2), object(1)\n",
      "memory usage: 4.0+ MB\n"
     ]
    }
   ],
   "source": [
    "user.info()"
   ]
  },
  {
   "cell_type": "code",
   "execution_count": 77,
   "metadata": {},
   "outputs": [],
   "source": [
    "# convert age column dtype to integer\n",
    "user_age_mapping = {\n",
    "    '15岁以下': 0,\n",
    "    '16-25岁': 1,\n",
    "    '26-35岁': 2,\n",
    "    '36-45岁': 3,\n",
    "    '46-55岁': 4,\n",
    "    '56岁以上': 5,\n",
    "}\n",
    "\n",
    "user['age'] = user.age.map(user_age_mapping).fillna(-1).astype(int)"
   ]
  },
  {
   "cell_type": "code",
   "execution_count": 78,
   "metadata": {},
   "outputs": [
    {
     "data": {
      "text/plain": [
       "user_id        0\n",
       "age            0\n",
       "sex            3\n",
       "user_lv_cd     0\n",
       "user_reg_tm    3\n",
       "dtype: int64"
      ]
     },
     "execution_count": 78,
     "metadata": {},
     "output_type": "execute_result"
    }
   ],
   "source": [
    "user.isnull().sum()"
   ]
  },
  {
   "cell_type": "code",
   "execution_count": 79,
   "metadata": {},
   "outputs": [
    {
     "data": {
      "text/html": [
       "<div>\n",
       "<style scoped>\n",
       "    .dataframe tbody tr th:only-of-type {\n",
       "        vertical-align: middle;\n",
       "    }\n",
       "\n",
       "    .dataframe tbody tr th {\n",
       "        vertical-align: top;\n",
       "    }\n",
       "\n",
       "    .dataframe thead th {\n",
       "        text-align: right;\n",
       "    }\n",
       "</style>\n",
       "<table border=\"1\" class=\"dataframe\">\n",
       "  <thead>\n",
       "    <tr style=\"text-align: right;\">\n",
       "      <th></th>\n",
       "      <th>user_id</th>\n",
       "      <th>age</th>\n",
       "      <th>sex</th>\n",
       "      <th>user_lv_cd</th>\n",
       "      <th>user_reg_tm</th>\n",
       "    </tr>\n",
       "  </thead>\n",
       "  <tbody>\n",
       "    <tr>\n",
       "      <th>34072</th>\n",
       "      <td>234073</td>\n",
       "      <td>-1</td>\n",
       "      <td>NaN</td>\n",
       "      <td>1</td>\n",
       "      <td>NaT</td>\n",
       "    </tr>\n",
       "    <tr>\n",
       "      <th>38905</th>\n",
       "      <td>238906</td>\n",
       "      <td>-1</td>\n",
       "      <td>NaN</td>\n",
       "      <td>1</td>\n",
       "      <td>NaT</td>\n",
       "    </tr>\n",
       "    <tr>\n",
       "      <th>67704</th>\n",
       "      <td>267705</td>\n",
       "      <td>-1</td>\n",
       "      <td>NaN</td>\n",
       "      <td>1</td>\n",
       "      <td>NaT</td>\n",
       "    </tr>\n",
       "  </tbody>\n",
       "</table>\n",
       "</div>"
      ],
      "text/plain": [
       "       user_id  age  sex  user_lv_cd user_reg_tm\n",
       "34072   234073   -1  NaN           1         NaT\n",
       "38905   238906   -1  NaN           1         NaT\n",
       "67704   267705   -1  NaN           1         NaT"
      ]
     },
     "execution_count": 79,
     "metadata": {},
     "output_type": "execute_result"
    }
   ],
   "source": [
    "user[user.isnull().any(axis=1)]"
   ]
  },
  {
   "cell_type": "code",
   "execution_count": 80,
   "metadata": {},
   "outputs": [],
   "source": [
    "# sex = 2 means secret\n",
    "user.sex = user.sex.fillna(2).astype(int)"
   ]
  },
  {
   "cell_type": "code",
   "execution_count": 81,
   "metadata": {},
   "outputs": [],
   "source": [
    "user.user_reg_tm.fillna(method='ffill', inplace=True)"
   ]
  },
  {
   "cell_type": "code",
   "execution_count": 82,
   "metadata": {},
   "outputs": [
    {
     "data": {
      "text/plain": [
       "user_id        0\n",
       "age            0\n",
       "sex            0\n",
       "user_lv_cd     0\n",
       "user_reg_tm    0\n",
       "dtype: int64"
      ]
     },
     "execution_count": 82,
     "metadata": {},
     "output_type": "execute_result"
    }
   ],
   "source": [
    "user.isnull().sum()"
   ]
  },
  {
   "cell_type": "code",
   "execution_count": 83,
   "metadata": {},
   "outputs": [
    {
     "name": "stdout",
     "output_type": "stream",
     "text": [
      "<class 'pandas.core.frame.DataFrame'>\n",
      "RangeIndex: 105321 entries, 0 to 105320\n",
      "Data columns (total 5 columns):\n",
      "user_id        105321 non-null int64\n",
      "age            105321 non-null int64\n",
      "sex            105321 non-null int64\n",
      "user_lv_cd     105321 non-null int64\n",
      "user_reg_tm    105321 non-null datetime64[ns]\n",
      "dtypes: datetime64[ns](1), int64(4)\n",
      "memory usage: 4.0 MB\n"
     ]
    }
   ],
   "source": [
    "user.info()"
   ]
  },
  {
   "cell_type": "code",
   "execution_count": 84,
   "metadata": {},
   "outputs": [],
   "source": [
    "optimized_user = user.head(0)"
   ]
  },
  {
   "cell_type": "code",
   "execution_count": 110,
   "metadata": {},
   "outputs": [],
   "source": [
    "optimized_user = optimize_numeric_values(user)"
   ]
  },
  {
   "cell_type": "code",
   "execution_count": 177,
   "metadata": {},
   "outputs": [
    {
     "name": "stdout",
     "output_type": "stream",
     "text": [
      "datetime_cols:\n",
      "{'user_reg_tm': 'datetime64[ns]'}\n",
      "other_cols:\n",
      "{'user_id': 'int32', 'age': 'int8', 'sex': 'int8', 'user_lv_cd': 'int8'}\n"
     ]
    }
   ],
   "source": [
    "show_dtypes(optimized_user)"
   ]
  },
  {
   "cell_type": "code",
   "execution_count": 167,
   "metadata": {},
   "outputs": [],
   "source": [
    "optimized_user.to_csv('{}/user.csv'.format(interim_path), index=False)"
   ]
  },
  {
   "cell_type": "code",
   "execution_count": 55,
   "metadata": {},
   "outputs": [],
   "source": [
    "column_types = {'user_id': 'int32', 'age': 'int8', 'sex': 'int8', 'user_lv_cd': 'int8'}\n",
    "optimized_user = pd.read_csv('{}/user.csv'.format(interim_path), dtype=column_types, parse_dates=['user_reg_tm'], infer_datetime_format=True)"
   ]
  },
  {
   "cell_type": "code",
   "execution_count": 56,
   "metadata": {},
   "outputs": [
    {
     "name": "stdout",
     "output_type": "stream",
     "text": [
      "<class 'pandas.core.frame.DataFrame'>\n",
      "RangeIndex: 105321 entries, 0 to 105320\n",
      "Data columns (total 5 columns):\n",
      "user_id        105321 non-null int32\n",
      "age            105321 non-null int8\n",
      "sex            105321 non-null int8\n",
      "user_lv_cd     105321 non-null int8\n",
      "user_reg_tm    105321 non-null datetime64[ns]\n",
      "dtypes: datetime64[ns](1), int32(1), int8(3)\n",
      "memory usage: 1.5 MB\n"
     ]
    }
   ],
   "source": [
    "optimized_user.info()"
   ]
  },
  {
   "cell_type": "markdown",
   "metadata": {},
   "source": [
    "## product"
   ]
  },
  {
   "cell_type": "code",
   "execution_count": 199,
   "metadata": {},
   "outputs": [
    {
     "name": "stdout",
     "output_type": "stream",
     "text": [
      "CPU times: user 27.3 ms, sys: 16.2 ms, total: 43.6 ms\n",
      "Wall time: 44.8 ms\n"
     ]
    }
   ],
   "source": [
    "%time product = pd.read_csv('{}/JData_Product.csv'.format(raw_path))"
   ]
  },
  {
   "cell_type": "code",
   "execution_count": 200,
   "metadata": {},
   "outputs": [
    {
     "name": "stdout",
     "output_type": "stream",
     "text": [
      "missing value columns:\n",
      "sku_id    0\n",
      "a1        0\n",
      "a2        0\n",
      "a3        0\n",
      "cate      0\n",
      "brand     0\n",
      "dtype: int64\n"
     ]
    }
   ],
   "source": [
    "show_nan(product)"
   ]
  },
  {
   "cell_type": "code",
   "execution_count": 201,
   "metadata": {},
   "outputs": [
    {
     "name": "stdout",
     "output_type": "stream",
     "text": [
      "<class 'pandas.core.frame.DataFrame'>\n",
      "RangeIndex: 24187 entries, 0 to 24186\n",
      "Data columns (total 6 columns):\n",
      "sku_id    24187 non-null int64\n",
      "a1        24187 non-null int64\n",
      "a2        24187 non-null int64\n",
      "a3        24187 non-null int64\n",
      "cate      24187 non-null int64\n",
      "brand     24187 non-null int64\n",
      "dtypes: int64(6)\n",
      "memory usage: 1.1 MB\n"
     ]
    }
   ],
   "source": [
    "product.info(null_counts=True, memory_usage='deep')"
   ]
  },
  {
   "cell_type": "code",
   "execution_count": 202,
   "metadata": {},
   "outputs": [],
   "source": [
    "optimized_product = optimize_numeric_values(product)"
   ]
  },
  {
   "cell_type": "code",
   "execution_count": 203,
   "metadata": {},
   "outputs": [
    {
     "name": "stdout",
     "output_type": "stream",
     "text": [
      "<class 'pandas.core.frame.DataFrame'>\n",
      "RangeIndex: 24187 entries, 0 to 24186\n",
      "Data columns (total 6 columns):\n",
      "sku_id    24187 non-null int32\n",
      "a1        24187 non-null int8\n",
      "a2        24187 non-null int8\n",
      "a3        24187 non-null int8\n",
      "cate      24187 non-null int8\n",
      "brand     24187 non-null int16\n",
      "dtypes: int16(1), int32(1), int8(4)\n",
      "memory usage: 236.3 KB\n"
     ]
    }
   ],
   "source": [
    "optimized_product.info(null_counts=True, memory_usage='deep')"
   ]
  },
  {
   "cell_type": "code",
   "execution_count": 204,
   "metadata": {},
   "outputs": [
    {
     "name": "stdout",
     "output_type": "stream",
     "text": [
      "datetime_cols:\n",
      "{}\n",
      "other_cols:\n",
      "{'sku_id': 'int32', 'a1': 'int8', 'a2': 'int8', 'a3': 'int8', 'cate': 'int8', 'brand': 'int16'}\n"
     ]
    }
   ],
   "source": [
    "show_dtypes(optimized_product)"
   ]
  },
  {
   "cell_type": "code",
   "execution_count": null,
   "metadata": {},
   "outputs": [],
   "source": [
    "column_types = {'sku_id': 'int32', 'a1': 'int8', 'a2': 'int8', 'a3': 'int8', 'cate': 'int8', 'brand': 'int16'}\n",
    "optimized_product = pd.read_csv('{}/JData_Product.csv'.format(raw_path), dtype=column_types)"
   ]
  },
  {
   "cell_type": "markdown",
   "metadata": {},
   "source": [
    "## comment"
   ]
  },
  {
   "cell_type": "code",
   "execution_count": 205,
   "metadata": {},
   "outputs": [
    {
     "name": "stdout",
     "output_type": "stream",
     "text": [
      "CPU times: user 676 ms, sys: 77 ms, total: 754 ms\n",
      "Wall time: 807 ms\n"
     ]
    }
   ],
   "source": [
    "%time comment = pd.read_csv('{}/JData_Comment.csv'.format(raw_path), parse_dates=['dt'], infer_datetime_format=True)"
   ]
  },
  {
   "cell_type": "code",
   "execution_count": 206,
   "metadata": {},
   "outputs": [
    {
     "name": "stdout",
     "output_type": "stream",
     "text": [
      "<class 'pandas.core.frame.DataFrame'>\n",
      "RangeIndex: 558552 entries, 0 to 558551\n",
      "Data columns (total 5 columns):\n",
      "dt                  558552 non-null datetime64[ns]\n",
      "sku_id              558552 non-null int64\n",
      "comment_num         558552 non-null int64\n",
      "has_bad_comment     558552 non-null int64\n",
      "bad_comment_rate    558552 non-null float64\n",
      "dtypes: datetime64[ns](1), float64(1), int64(3)\n",
      "memory usage: 21.3 MB\n"
     ]
    }
   ],
   "source": [
    "comment.info(null_counts=True, memory_usage='deep')"
   ]
  },
  {
   "cell_type": "code",
   "execution_count": 207,
   "metadata": {},
   "outputs": [
    {
     "name": "stdout",
     "output_type": "stream",
     "text": [
      "missing value columns:\n",
      "dt                  0\n",
      "sku_id              0\n",
      "comment_num         0\n",
      "has_bad_comment     0\n",
      "bad_comment_rate    0\n",
      "dtype: int64\n"
     ]
    }
   ],
   "source": [
    "show_nan(comment)"
   ]
  },
  {
   "cell_type": "code",
   "execution_count": 218,
   "metadata": {},
   "outputs": [
    {
     "data": {
      "text/plain": [
       "0"
      ]
     },
     "execution_count": 218,
     "metadata": {},
     "output_type": "execute_result"
    }
   ],
   "source": [
    "comment[['dt', 'sku_id']].duplicated().sum()"
   ]
  },
  {
   "cell_type": "code",
   "execution_count": 208,
   "metadata": {},
   "outputs": [],
   "source": [
    "optimized_comment = optimize_numeric_values(comment)"
   ]
  },
  {
   "cell_type": "code",
   "execution_count": 209,
   "metadata": {},
   "outputs": [
    {
     "name": "stdout",
     "output_type": "stream",
     "text": [
      "<class 'pandas.core.frame.DataFrame'>\n",
      "RangeIndex: 558552 entries, 0 to 558551\n",
      "Data columns (total 5 columns):\n",
      "dt                  558552 non-null datetime64[ns]\n",
      "sku_id              558552 non-null int32\n",
      "comment_num         558552 non-null int8\n",
      "has_bad_comment     558552 non-null int8\n",
      "bad_comment_rate    558552 non-null float32\n",
      "dtypes: datetime64[ns](1), float32(1), int32(1), int8(2)\n",
      "memory usage: 9.6 MB\n"
     ]
    }
   ],
   "source": [
    "optimized_comment.info(null_counts=True, memory_usage='deep')"
   ]
  },
  {
   "cell_type": "code",
   "execution_count": 210,
   "metadata": {},
   "outputs": [
    {
     "name": "stdout",
     "output_type": "stream",
     "text": [
      "datetime_cols:\n",
      "{'dt': 'datetime64[ns]'}\n",
      "other_cols:\n",
      "{'sku_id': 'int32', 'comment_num': 'int8', 'has_bad_comment': 'int8', 'bad_comment_rate': 'float32'}\n"
     ]
    }
   ],
   "source": [
    "show_dtypes(optimized_comment)"
   ]
  },
  {
   "cell_type": "code",
   "execution_count": 26,
   "metadata": {},
   "outputs": [
    {
     "name": "stdout",
     "output_type": "stream",
     "text": [
      "CPU times: user 837 ms, sys: 74.1 ms, total: 911 ms\n",
      "Wall time: 1.1 s\n"
     ]
    }
   ],
   "source": [
    "column_types = {'sku_id': 'int32', 'comment_num': 'int8', 'has_bad_comment': 'int8', 'bad_comment_rate': 'float32'}\n",
    "%time optimized_comment = pd.read_csv('{}/JData_Comment.csv'.format(raw_path), dtype=column_types, parse_dates=['dt'], infer_datetime_format=True)"
   ]
  },
  {
   "cell_type": "code",
   "execution_count": 27,
   "metadata": {},
   "outputs": [
    {
     "data": {
      "text/html": [
       "<div>\n",
       "<style scoped>\n",
       "    .dataframe tbody tr th:only-of-type {\n",
       "        vertical-align: middle;\n",
       "    }\n",
       "\n",
       "    .dataframe tbody tr th {\n",
       "        vertical-align: top;\n",
       "    }\n",
       "\n",
       "    .dataframe thead th {\n",
       "        text-align: right;\n",
       "    }\n",
       "</style>\n",
       "<table border=\"1\" class=\"dataframe\">\n",
       "  <thead>\n",
       "    <tr style=\"text-align: right;\">\n",
       "      <th></th>\n",
       "      <th>dt</th>\n",
       "      <th>sku_id</th>\n",
       "      <th>comment_num</th>\n",
       "      <th>has_bad_comment</th>\n",
       "      <th>bad_comment_rate</th>\n",
       "    </tr>\n",
       "  </thead>\n",
       "  <tbody>\n",
       "    <tr>\n",
       "      <th>0</th>\n",
       "      <td>2016-02-01</td>\n",
       "      <td>1000</td>\n",
       "      <td>3</td>\n",
       "      <td>1</td>\n",
       "      <td>0.0417</td>\n",
       "    </tr>\n",
       "    <tr>\n",
       "      <th>1</th>\n",
       "      <td>2016-02-01</td>\n",
       "      <td>10000</td>\n",
       "      <td>2</td>\n",
       "      <td>0</td>\n",
       "      <td>0.0000</td>\n",
       "    </tr>\n",
       "    <tr>\n",
       "      <th>2</th>\n",
       "      <td>2016-02-01</td>\n",
       "      <td>100011</td>\n",
       "      <td>4</td>\n",
       "      <td>1</td>\n",
       "      <td>0.0376</td>\n",
       "    </tr>\n",
       "    <tr>\n",
       "      <th>3</th>\n",
       "      <td>2016-02-01</td>\n",
       "      <td>100018</td>\n",
       "      <td>3</td>\n",
       "      <td>0</td>\n",
       "      <td>0.0000</td>\n",
       "    </tr>\n",
       "    <tr>\n",
       "      <th>4</th>\n",
       "      <td>2016-02-01</td>\n",
       "      <td>100020</td>\n",
       "      <td>3</td>\n",
       "      <td>0</td>\n",
       "      <td>0.0000</td>\n",
       "    </tr>\n",
       "  </tbody>\n",
       "</table>\n",
       "</div>"
      ],
      "text/plain": [
       "          dt  sku_id  comment_num  has_bad_comment  bad_comment_rate\n",
       "0 2016-02-01    1000            3                1            0.0417\n",
       "1 2016-02-01   10000            2                0            0.0000\n",
       "2 2016-02-01  100011            4                1            0.0376\n",
       "3 2016-02-01  100018            3                0            0.0000\n",
       "4 2016-02-01  100020            3                0            0.0000"
      ]
     },
     "execution_count": 27,
     "metadata": {},
     "output_type": "execute_result"
    }
   ],
   "source": [
    "optimized_comment.head()"
   ]
  },
  {
   "cell_type": "markdown",
   "metadata": {},
   "source": [
    "# Value Inconsistency Check"
   ]
  },
  {
   "cell_type": "markdown",
   "metadata": {},
   "source": [
    "### sku_id in action > sku_id in product? yes"
   ]
  },
  {
   "cell_type": "code",
   "execution_count": null,
   "metadata": {},
   "outputs": [],
   "source": [
    "import gc\n",
    "column_types = {\n",
    "    'user_id': 'int32',\n",
    "    'sku_id': 'int32',\n",
    "    'model_id': 'int16',\n",
    "    'type': 'int8',\n",
    "    'cate': 'int8',\n",
    "    'brand': 'int16'\n",
    "}\n",
    "\n",
    "%time optimized_action = pd.read_csv('{}/All_Action.csv'.format(interim_path), dtype=column_types, parse_dates=['time'], infer_datetime_format=True)\n",
    "\n",
    "print(optimized_action.sku_id.nunique())\n",
    "del optimized_action\n",
    "gc.collect()\n",
    "\n",
    "%time dedup_optimized_action.to_csv('{}/Dedup_All_Action.csv'.format(interim_path), index=False)\n",
    "print(dedup_optimized_action.sku_id.nunique())\n",
    "del optimized_action\n",
    "gc.collect()\n",
    "\n",
    "column_types = {'sku_id': 'int32', 'a1': 'int8', 'a2': 'int8', 'a3': 'int8', 'cate': 'int8', 'brand': 'int16'}\n",
    "optimized_product = pd.read_csv('{}/JData_Product.csv'.format(raw_path), dtype=column_types)\n",
    "print(optimized_product.sku_id.nunique())\n",
    "del optimized_product\n",
    "gc.collect()\n",
    "\n",
    "# 28710\n",
    "# 28710\n",
    "# 24187"
   ]
  },
  {
   "cell_type": "markdown",
   "metadata": {},
   "source": [
    "### sku_id has only one pair (cate, brand)? yes"
   ]
  },
  {
   "cell_type": "code",
   "execution_count": null,
   "metadata": {},
   "outputs": [],
   "source": [
    "dedup_optimized_action = pd.read_csv('{}/Dedup_All_Action.csv'.format(interim_path))\n",
    "g = dedup_optimized_action[['sku_id', 'cate', 'brand']].drop_duplicates().groupby('sku_id')\n",
    "print(g.brand.count().value_counts())\n",
    "print(g.cate.count().value_counts())\n",
    "\n",
    "del dedup_optimized_action, g\n",
    "gc.collect()"
   ]
  },
  {
   "cell_type": "code",
   "execution_count": 72,
   "metadata": {},
   "outputs": [],
   "source": [
    "column_types = {'sku_id': 'int32', 'a1': 'int8', 'a2': 'int8', 'a3': 'int8', 'cate': 'int8', 'brand': 'int16'}\n",
    "optimized_product = pd.read_csv('{}/JData_Product.csv'.format(raw_path), dtype=column_types)"
   ]
  },
  {
   "cell_type": "code",
   "execution_count": 74,
   "metadata": {},
   "outputs": [],
   "source": [
    "c = optimized_product.groupby('sku_id').count()"
   ]
  },
  {
   "cell_type": "code",
   "execution_count": 75,
   "metadata": {},
   "outputs": [
    {
     "data": {
      "text/plain": [
       "1    24187\n",
       "Name: cate, dtype: int64"
      ]
     },
     "execution_count": 75,
     "metadata": {},
     "output_type": "execute_result"
    }
   ],
   "source": [
    "c.cate.value_counts()"
   ]
  },
  {
   "cell_type": "code",
   "execution_count": 76,
   "metadata": {},
   "outputs": [
    {
     "data": {
      "text/plain": [
       "1    24187\n",
       "Name: brand, dtype: int64"
      ]
     },
     "execution_count": 76,
     "metadata": {},
     "output_type": "execute_result"
    }
   ],
   "source": [
    "c.brand.value_counts()"
   ]
  }
 ],
 "metadata": {
  "kernelspec": {
   "display_name": "Python 3",
   "language": "python",
   "name": "python3"
  },
  "language_info": {
   "codemirror_mode": {
    "name": "ipython",
    "version": 3
   },
   "file_extension": ".py",
   "mimetype": "text/x-python",
   "name": "python",
   "nbconvert_exporter": "python",
   "pygments_lexer": "ipython3",
   "version": "3.7.0"
  }
 },
 "nbformat": 4,
 "nbformat_minor": 2
}
